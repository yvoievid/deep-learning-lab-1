{
 "cells": [
  {
   "cell_type": "markdown",
   "id": "9847470e-089c-46ea-a448-77db89a7b40f",
   "metadata": {},
   "source": [
    "# Lab 1\n",
    "`By Yurii Voievidka`"
   ]
  },
  {
   "cell_type": "markdown",
   "id": "16460c71-9058-4aa0-908a-fe993804b53e",
   "metadata": {},
   "source": [
    "## Task 1"
   ]
  },
  {
   "cell_type": "code",
   "execution_count": 1,
   "id": "35b60b70-b852-4f6f-a6ae-9ed31470628d",
   "metadata": {},
   "outputs": [],
   "source": [
    "import pandas as pd"
   ]
  },
  {
   "cell_type": "code",
   "execution_count": 2,
   "id": "1b13237b-b76e-4867-9089-49415c99bbfb",
   "metadata": {},
   "outputs": [],
   "source": [
    "train_raw = pd.read_csv('hourly_wages_data.csv')\n",
    "X = train_raw.drop(columns=['wage_per_hour'])\n",
    "y = train_raw['wage_per_hour']"
   ]
  },
  {
   "cell_type": "code",
   "execution_count": 3,
   "id": "c117959e-58b7-498f-8633-62316bc18f4b",
   "metadata": {},
   "outputs": [],
   "source": [
    "from sklearn.model_selection import train_test_split\n",
    "\n",
    "X_train, X_test, y_train, y_test = train_test_split(X, y, test_size=0.3, random_state=1)\n",
    "X_test, X_val, y_test, y_val = train_test_split(X_test, y_test, test_size=0.33, random_state=1) ## 0.33 * 0.3 = 0.1 for test\n"
   ]
  },
  {
   "cell_type": "code",
   "execution_count": 4,
   "id": "923a98f5-6d48-4c2d-9685-88c8a6b3fc70",
   "metadata": {},
   "outputs": [],
   "source": [
    "## Scaling and Normalization\n",
    "from scipy import stats\n",
    "\n",
    "# for min_max scaling\n",
    "from mlxtend.preprocessing import minmax_scaling\n",
    "\n",
    "# plotting modules\n",
    "import seaborn as sns\n",
    "import matplotlib.pyplot as plt"
   ]
  },
  {
   "cell_type": "code",
   "execution_count": 5,
   "id": "a760fb0d-4f60-4026-a660-f429f7ff5c19",
   "metadata": {},
   "outputs": [
    {
     "data": {
      "text/html": [
       "<div>\n",
       "<style scoped>\n",
       "    .dataframe tbody tr th:only-of-type {\n",
       "        vertical-align: middle;\n",
       "    }\n",
       "\n",
       "    .dataframe tbody tr th {\n",
       "        vertical-align: top;\n",
       "    }\n",
       "\n",
       "    .dataframe thead th {\n",
       "        text-align: right;\n",
       "    }\n",
       "</style>\n",
       "<table border=\"1\" class=\"dataframe\">\n",
       "  <thead>\n",
       "    <tr style=\"text-align: right;\">\n",
       "      <th></th>\n",
       "      <th>union</th>\n",
       "      <th>education_yrs</th>\n",
       "      <th>experience_yrs</th>\n",
       "      <th>age</th>\n",
       "      <th>female</th>\n",
       "      <th>marr</th>\n",
       "      <th>south</th>\n",
       "      <th>manufacturing</th>\n",
       "      <th>construction</th>\n",
       "    </tr>\n",
       "  </thead>\n",
       "  <tbody>\n",
       "    <tr>\n",
       "      <th>106</th>\n",
       "      <td>1</td>\n",
       "      <td>14</td>\n",
       "      <td>21</td>\n",
       "      <td>41</td>\n",
       "      <td>0</td>\n",
       "      <td>1</td>\n",
       "      <td>0</td>\n",
       "      <td>0</td>\n",
       "      <td>0</td>\n",
       "    </tr>\n",
       "    <tr>\n",
       "      <th>189</th>\n",
       "      <td>0</td>\n",
       "      <td>18</td>\n",
       "      <td>14</td>\n",
       "      <td>38</td>\n",
       "      <td>1</td>\n",
       "      <td>1</td>\n",
       "      <td>0</td>\n",
       "      <td>0</td>\n",
       "      <td>0</td>\n",
       "    </tr>\n",
       "    <tr>\n",
       "      <th>504</th>\n",
       "      <td>0</td>\n",
       "      <td>17</td>\n",
       "      <td>10</td>\n",
       "      <td>33</td>\n",
       "      <td>1</td>\n",
       "      <td>0</td>\n",
       "      <td>0</td>\n",
       "      <td>0</td>\n",
       "      <td>0</td>\n",
       "    </tr>\n",
       "    <tr>\n",
       "      <th>477</th>\n",
       "      <td>0</td>\n",
       "      <td>18</td>\n",
       "      <td>27</td>\n",
       "      <td>51</td>\n",
       "      <td>0</td>\n",
       "      <td>1</td>\n",
       "      <td>0</td>\n",
       "      <td>0</td>\n",
       "      <td>0</td>\n",
       "    </tr>\n",
       "    <tr>\n",
       "      <th>350</th>\n",
       "      <td>0</td>\n",
       "      <td>2</td>\n",
       "      <td>16</td>\n",
       "      <td>24</td>\n",
       "      <td>0</td>\n",
       "      <td>0</td>\n",
       "      <td>0</td>\n",
       "      <td>0</td>\n",
       "      <td>0</td>\n",
       "    </tr>\n",
       "  </tbody>\n",
       "</table>\n",
       "</div>"
      ],
      "text/plain": [
       "     union  education_yrs  experience_yrs  age  female  marr  south  \\\n",
       "106      1             14              21   41       0     1      0   \n",
       "189      0             18              14   38       1     1      0   \n",
       "504      0             17              10   33       1     0      0   \n",
       "477      0             18              27   51       0     1      0   \n",
       "350      0              2              16   24       0     0      0   \n",
       "\n",
       "     manufacturing  construction  \n",
       "106              0             0  \n",
       "189              0             0  \n",
       "504              0             0  \n",
       "477              0             0  \n",
       "350              0             0  "
      ]
     },
     "execution_count": 5,
     "metadata": {},
     "output_type": "execute_result"
    }
   ],
   "source": [
    "X_train.head()"
   ]
  },
  {
   "cell_type": "code",
   "execution_count": 6,
   "id": "cc012123-1a4d-4d3d-93ca-24154f55a69f",
   "metadata": {},
   "outputs": [],
   "source": [
    "## Scaling\n",
    "\n",
    "# scaled_X = minmax_scaling(y_train, columns=['wage_per_hour'])\n",
    "# ax = sns.histplot(scaled_X, kde=True)\n",
    "# ax.set_title('Scaled wages')\n",
    "# ax.show()"
   ]
  },
  {
   "cell_type": "code",
   "execution_count": 7,
   "id": "1fee711e-e30c-4fb7-bbe7-5850e6e79308",
   "metadata": {},
   "outputs": [
    {
     "name": "stderr",
     "output_type": "stream",
     "text": [
      "2022-10-16 17:44:49.230624: I tensorflow/core/platform/cpu_feature_guard.cc:193] This TensorFlow binary is optimized with oneAPI Deep Neural Network Library (oneDNN) to use the following CPU instructions in performance-critical operations:  SSE4.1 SSE4.2\n",
      "To enable them in other operations, rebuild TensorFlow with the appropriate compiler flags.\n"
     ]
    }
   ],
   "source": [
    "from keras.models import Sequential\n",
    "from keras.layers import Dense\n",
    "from keras.callbacks import EarlyStopping\n",
    "early_stopping_monitor = EarlyStopping(patience=3)\n",
    "\n",
    "model = Sequential()\n",
    "n_cols = X_train.shape[1]\n",
    "\n",
    "model.add(Dense(200, activation='relu', input_shape=(n_cols, )))\n",
    "model.add(Dense(200, activation='relu'))\n",
    "model.add(Dense(200, activation='relu'))\n",
    "model.add(Dense(1))"
   ]
  },
  {
   "cell_type": "code",
   "execution_count": 13,
   "id": "acfdba38-613c-41c6-a500-4518ca6927ac",
   "metadata": {},
   "outputs": [],
   "source": [
    "model.compile(optimizer='adam', loss='mean_squared_error')"
   ]
  },
  {
   "cell_type": "code",
   "execution_count": 20,
   "id": "6626ad47-0ded-4ad7-96d4-7f36d1b7340f",
   "metadata": {},
   "outputs": [
    {
     "name": "stdout",
     "output_type": "stream",
     "text": [
      "Epoch 1/30\n",
      "12/12 [==============================] - 0s 13ms/step - loss: 21.6080 - val_loss: 19.2003\n",
      "Epoch 2/30\n",
      "12/12 [==============================] - 0s 3ms/step - loss: 21.5111 - val_loss: 20.4737\n",
      "Epoch 3/30\n",
      "12/12 [==============================] - 0s 3ms/step - loss: 21.1396 - val_loss: 19.3001\n",
      "Epoch 4/30\n",
      "12/12 [==============================] - 0s 3ms/step - loss: 21.4496 - val_loss: 19.8250\n"
     ]
    },
    {
     "data": {
      "text/plain": [
       "<keras.callbacks.History at 0x7fbc5e533c70>"
      ]
     },
     "execution_count": 20,
     "metadata": {},
     "output_type": "execute_result"
    }
   ],
   "source": [
    "model.fit(X_train, \n",
    "          y_train, \n",
    "          validation_split=0.0, \n",
    "          validation_data=(X_val, y_val),\n",
    "          epochs=30, \n",
    "          callbacks=[early_stopping_monitor])"
   ]
  },
  {
   "cell_type": "code",
   "execution_count": 18,
   "id": "bd834ab3-e0e5-4c3b-8866-2753b52b62e0",
   "metadata": {},
   "outputs": [
    {
     "name": "stdout",
     "output_type": "stream",
     "text": [
      "4/4 [==============================] - 0s 1ms/step\n"
     ]
    },
    {
     "data": {
      "text/plain": [
       "array([[ 6.9910913],\n",
       "       [12.716263 ],\n",
       "       [10.281483 ],\n",
       "       [ 3.8815782],\n",
       "       [ 7.1920066],\n",
       "       [10.026417 ],\n",
       "       [ 5.3114405],\n",
       "       [10.287465 ],\n",
       "       [12.173947 ],\n",
       "       [ 8.01795  ],\n",
       "       [ 9.36623  ],\n",
       "       [13.545427 ],\n",
       "       [ 7.5752707],\n",
       "       [ 7.676775 ],\n",
       "       [ 4.7771416],\n",
       "       [ 5.7619276],\n",
       "       [ 4.2122693],\n",
       "       [ 7.896549 ],\n",
       "       [ 5.254123 ],\n",
       "       [12.006744 ],\n",
       "       [ 7.807425 ],\n",
       "       [ 9.721127 ],\n",
       "       [ 5.869656 ],\n",
       "       [11.624999 ],\n",
       "       [ 6.2168145],\n",
       "       [ 5.604036 ],\n",
       "       [ 6.619551 ],\n",
       "       [11.391342 ],\n",
       "       [ 9.313694 ],\n",
       "       [ 9.102544 ],\n",
       "       [ 9.067106 ],\n",
       "       [11.137327 ],\n",
       "       [ 6.7951202],\n",
       "       [ 9.001675 ],\n",
       "       [ 9.695916 ],\n",
       "       [14.48348  ],\n",
       "       [10.258003 ],\n",
       "       [ 7.1617284],\n",
       "       [ 5.4300423],\n",
       "       [ 7.092858 ],\n",
       "       [ 7.6029286],\n",
       "       [ 7.572657 ],\n",
       "       [ 3.9487574],\n",
       "       [ 6.2529187],\n",
       "       [ 9.140731 ],\n",
       "       [ 7.086826 ],\n",
       "       [ 6.2863507],\n",
       "       [ 4.9838347],\n",
       "       [12.158523 ],\n",
       "       [ 9.6177   ],\n",
       "       [ 8.523312 ],\n",
       "       [ 9.097598 ],\n",
       "       [ 5.883308 ],\n",
       "       [10.510539 ],\n",
       "       [ 5.3225183],\n",
       "       [ 9.137985 ],\n",
       "       [ 5.5354824],\n",
       "       [ 7.3206615],\n",
       "       [ 6.191293 ],\n",
       "       [ 5.6579537],\n",
       "       [ 8.849417 ],\n",
       "       [ 5.816812 ],\n",
       "       [10.19179  ],\n",
       "       [10.418532 ],\n",
       "       [ 7.645181 ],\n",
       "       [ 6.0730987],\n",
       "       [ 7.617158 ],\n",
       "       [ 5.5163164],\n",
       "       [ 7.8775077],\n",
       "       [ 7.789581 ],\n",
       "       [ 7.6405954],\n",
       "       [ 8.365517 ],\n",
       "       [ 9.531504 ],\n",
       "       [ 9.728388 ],\n",
       "       [ 7.875686 ],\n",
       "       [ 6.7645106],\n",
       "       [ 7.2758546],\n",
       "       [ 5.4413342],\n",
       "       [ 8.939569 ],\n",
       "       [ 5.754437 ],\n",
       "       [ 7.718578 ],\n",
       "       [ 9.336161 ],\n",
       "       [ 9.7425785],\n",
       "       [ 8.355929 ],\n",
       "       [ 7.572031 ],\n",
       "       [ 7.801019 ],\n",
       "       [ 9.213242 ],\n",
       "       [ 8.120215 ],\n",
       "       [ 4.9416966],\n",
       "       [ 6.699104 ],\n",
       "       [ 5.5756507],\n",
       "       [ 6.2507334],\n",
       "       [ 7.3686805],\n",
       "       [ 5.5825768],\n",
       "       [ 7.199226 ],\n",
       "       [ 8.1703615],\n",
       "       [ 9.647028 ],\n",
       "       [ 6.699122 ],\n",
       "       [ 7.333833 ],\n",
       "       [10.622354 ],\n",
       "       [ 9.930241 ],\n",
       "       [ 9.899771 ],\n",
       "       [ 5.6773334],\n",
       "       [ 7.6029296],\n",
       "       [ 9.106741 ],\n",
       "       [ 6.0308604],\n",
       "       [ 7.801018 ]], dtype=float32)"
      ]
     },
     "execution_count": 18,
     "metadata": {},
     "output_type": "execute_result"
    }
   ],
   "source": [
    "model.predict(X_test)"
   ]
  },
  {
   "cell_type": "markdown",
   "id": "df35b106-ad79-46b7-9ad1-7dc5a6939f74",
   "metadata": {},
   "source": [
    "## Task 2"
   ]
  },
  {
   "cell_type": "code",
   "execution_count": 35,
   "id": "9b965745-e58b-460f-be5c-07d0957d36d8",
   "metadata": {},
   "outputs": [],
   "source": [
    "from keras.utils import to_categorical"
   ]
  },
  {
   "cell_type": "code",
   "execution_count": 39,
   "id": "1fc99d56-e987-4e0b-8199-7fd3cf01c7dc",
   "metadata": {},
   "outputs": [],
   "source": [
    "train_raw = pd.read_csv('./hourly_wages_data.csv')\n",
    "X = train_raw.drop(columns=['female'])\n",
    "y = train_raw['female']\n",
    "\n",
    "X_train, X_test, y_train, y_test = train_test_split(X, y, test_size=0.3, random_state=1)\n",
    "X_test, X_val, y_test, y_val = train_test_split(X_test, y_test, test_size=0.33, random_state=1) ## 0.33 * 0.3 = 0.1 for test"
   ]
  },
  {
   "cell_type": "code",
   "execution_count": 40,
   "id": "66b125d2-b50a-4309-bb81-e5a71c2fc7b3",
   "metadata": {},
   "outputs": [
    {
     "name": "stdout",
     "output_type": "stream",
     "text": [
      "[[0. 1.]\n",
      " [0. 1.]\n",
      " [1. 0.]\n",
      " [1. 0.]\n",
      " [1. 0.]]\n"
     ]
    }
   ],
   "source": [
    "y_train_2 = to_categorical(train_raw['female'])\n",
    "print(y_train_2[:5])"
   ]
  },
  {
   "cell_type": "code",
   "execution_count": 41,
   "id": "f40168f5-f7a6-46ca-93db-aea85654b918",
   "metadata": {},
   "outputs": [],
   "source": [
    "model_2 = Sequential()"
   ]
  },
  {
   "cell_type": "code",
   "execution_count": 44,
   "id": "3b60713b-2583-4e62-9c2d-2e75ba81fb68",
   "metadata": {},
   "outputs": [],
   "source": [
    "n_cols_2 = X_train.shape[1]"
   ]
  },
  {
   "cell_type": "code",
   "execution_count": null,
   "id": "7b05bb3f-ae49-44dc-923d-f5b690c1dde0",
   "metadata": {},
   "outputs": [],
   "source": []
  }
 ],
 "metadata": {
  "kernelspec": {
   "display_name": "Python 3 (ipykernel)",
   "language": "python",
   "name": "python3"
  },
  "language_info": {
   "codemirror_mode": {
    "name": "ipython",
    "version": 3
   },
   "file_extension": ".py",
   "mimetype": "text/x-python",
   "name": "python",
   "nbconvert_exporter": "python",
   "pygments_lexer": "ipython3",
   "version": "3.10.6"
  }
 },
 "nbformat": 4,
 "nbformat_minor": 5
}
