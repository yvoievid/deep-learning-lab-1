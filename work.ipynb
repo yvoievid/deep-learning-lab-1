{
 "cells": [
  {
   "cell_type": "markdown",
   "id": "9847470e-089c-46ea-a448-77db89a7b40f",
   "metadata": {},
   "source": [
    "# Lab 1\n",
    "`By Yurii Voievidka`"
   ]
  },
  {
   "cell_type": "markdown",
   "id": "16460c71-9058-4aa0-908a-fe993804b53e",
   "metadata": {},
   "source": [
    "## Task 1"
   ]
  },
  {
   "cell_type": "code",
   "execution_count": 1,
   "id": "35b60b70-b852-4f6f-a6ae-9ed31470628d",
   "metadata": {},
   "outputs": [],
   "source": [
    "import pandas as pd"
   ]
  },
  {
   "cell_type": "code",
   "execution_count": 2,
   "id": "1b13237b-b76e-4867-9089-49415c99bbfb",
   "metadata": {},
   "outputs": [],
   "source": [
    "train_raw = pd.read_csv('hourly_wages_data.csv')\n",
    "X = train_raw.drop(columns=['wage_per_hour'])\n",
    "y = train_raw['wage_per_hour']"
   ]
  },
  {
   "cell_type": "code",
   "execution_count": 3,
   "id": "c117959e-58b7-498f-8633-62316bc18f4b",
   "metadata": {},
   "outputs": [],
   "source": [
    "from sklearn.model_selection import train_test_split\n",
    "\n",
    "X_train, X_test, y_train, y_test = train_test_split(X, y, test_size=0.3, random_state=1)\n",
    "X_test, X_val, y_test, y_val = train_test_split(X_test, y_test, test_size=0.33, random_state=1) ## 0.33 * 0.3 = 0.1 for test\n"
   ]
  },
  {
   "cell_type": "code",
   "execution_count": 4,
   "id": "923a98f5-6d48-4c2d-9685-88c8a6b3fc70",
   "metadata": {},
   "outputs": [],
   "source": [
    "## Scaling and Normalization\n",
    "from scipy import stats\n",
    "\n",
    "# for min_max scaling\n",
    "from mlxtend.preprocessing import minmax_scaling\n",
    "\n",
    "# plotting modules\n",
    "import seaborn as sns\n",
    "import matplotlib.pyplot as plt"
   ]
  },
  {
   "cell_type": "code",
   "execution_count": 5,
   "id": "a760fb0d-4f60-4026-a660-f429f7ff5c19",
   "metadata": {},
   "outputs": [
    {
     "data": {
      "text/html": [
       "<div>\n",
       "<style scoped>\n",
       "    .dataframe tbody tr th:only-of-type {\n",
       "        vertical-align: middle;\n",
       "    }\n",
       "\n",
       "    .dataframe tbody tr th {\n",
       "        vertical-align: top;\n",
       "    }\n",
       "\n",
       "    .dataframe thead th {\n",
       "        text-align: right;\n",
       "    }\n",
       "</style>\n",
       "<table border=\"1\" class=\"dataframe\">\n",
       "  <thead>\n",
       "    <tr style=\"text-align: right;\">\n",
       "      <th></th>\n",
       "      <th>union</th>\n",
       "      <th>education_yrs</th>\n",
       "      <th>experience_yrs</th>\n",
       "      <th>age</th>\n",
       "      <th>female</th>\n",
       "      <th>marr</th>\n",
       "      <th>south</th>\n",
       "      <th>manufacturing</th>\n",
       "      <th>construction</th>\n",
       "    </tr>\n",
       "  </thead>\n",
       "  <tbody>\n",
       "    <tr>\n",
       "      <th>106</th>\n",
       "      <td>1</td>\n",
       "      <td>14</td>\n",
       "      <td>21</td>\n",
       "      <td>41</td>\n",
       "      <td>0</td>\n",
       "      <td>1</td>\n",
       "      <td>0</td>\n",
       "      <td>0</td>\n",
       "      <td>0</td>\n",
       "    </tr>\n",
       "    <tr>\n",
       "      <th>189</th>\n",
       "      <td>0</td>\n",
       "      <td>18</td>\n",
       "      <td>14</td>\n",
       "      <td>38</td>\n",
       "      <td>1</td>\n",
       "      <td>1</td>\n",
       "      <td>0</td>\n",
       "      <td>0</td>\n",
       "      <td>0</td>\n",
       "    </tr>\n",
       "    <tr>\n",
       "      <th>504</th>\n",
       "      <td>0</td>\n",
       "      <td>17</td>\n",
       "      <td>10</td>\n",
       "      <td>33</td>\n",
       "      <td>1</td>\n",
       "      <td>0</td>\n",
       "      <td>0</td>\n",
       "      <td>0</td>\n",
       "      <td>0</td>\n",
       "    </tr>\n",
       "    <tr>\n",
       "      <th>477</th>\n",
       "      <td>0</td>\n",
       "      <td>18</td>\n",
       "      <td>27</td>\n",
       "      <td>51</td>\n",
       "      <td>0</td>\n",
       "      <td>1</td>\n",
       "      <td>0</td>\n",
       "      <td>0</td>\n",
       "      <td>0</td>\n",
       "    </tr>\n",
       "    <tr>\n",
       "      <th>350</th>\n",
       "      <td>0</td>\n",
       "      <td>2</td>\n",
       "      <td>16</td>\n",
       "      <td>24</td>\n",
       "      <td>0</td>\n",
       "      <td>0</td>\n",
       "      <td>0</td>\n",
       "      <td>0</td>\n",
       "      <td>0</td>\n",
       "    </tr>\n",
       "  </tbody>\n",
       "</table>\n",
       "</div>"
      ],
      "text/plain": [
       "     union  education_yrs  experience_yrs  age  female  marr  south  \\\n",
       "106      1             14              21   41       0     1      0   \n",
       "189      0             18              14   38       1     1      0   \n",
       "504      0             17              10   33       1     0      0   \n",
       "477      0             18              27   51       0     1      0   \n",
       "350      0              2              16   24       0     0      0   \n",
       "\n",
       "     manufacturing  construction  \n",
       "106              0             0  \n",
       "189              0             0  \n",
       "504              0             0  \n",
       "477              0             0  \n",
       "350              0             0  "
      ]
     },
     "execution_count": 5,
     "metadata": {},
     "output_type": "execute_result"
    }
   ],
   "source": [
    "X_train.head()"
   ]
  },
  {
   "cell_type": "code",
   "execution_count": 6,
   "id": "cc012123-1a4d-4d3d-93ca-24154f55a69f",
   "metadata": {},
   "outputs": [],
   "source": [
    "## Scaling\n",
    "\n",
    "# scaled_X = minmax_scaling(y_train, columns=['wage_per_hour'])\n",
    "# ax = sns.histplot(scaled_X, kde=True)\n",
    "# ax.set_title('Scaled wages')\n",
    "# ax.show()\n"
   ]
  },
  {
   "cell_type": "code",
   "execution_count": 123,
   "id": "1fee711e-e30c-4fb7-bbe7-5850e6e79308",
   "metadata": {},
   "outputs": [],
   "source": [
    "from keras.models import Sequential\n",
    "from keras.layers import Dense\n",
    "from keras.callbacks import EarlyStopping\n",
    "early_stopping_monitor = EarlyStopping(patience=3)\n",
    "\n",
    "n_cols = X_train.shape[1]\n",
    "\n",
    "model = Sequential([\n",
    "    Dense(200, activation='relu', input_shape=(n_cols, )),\n",
    "    Dense(200, activation='relu'),\n",
    "    Dense(200, activation='relu'),\n",
    "    Dense(1)\n",
    "])"
   ]
  },
  {
   "cell_type": "code",
   "execution_count": 13,
   "id": "acfdba38-613c-41c6-a500-4518ca6927ac",
   "metadata": {},
   "outputs": [],
   "source": [
    "model.compile(optimizer='adam', loss='mean_squared_error')"
   ]
  },
  {
   "cell_type": "code",
   "execution_count": 20,
   "id": "6626ad47-0ded-4ad7-96d4-7f36d1b7340f",
   "metadata": {},
   "outputs": [
    {
     "name": "stdout",
     "output_type": "stream",
     "text": [
      "Epoch 1/30\n",
      "12/12 [==============================] - 0s 13ms/step - loss: 21.6080 - val_loss: 19.2003\n",
      "Epoch 2/30\n",
      "12/12 [==============================] - 0s 3ms/step - loss: 21.5111 - val_loss: 20.4737\n",
      "Epoch 3/30\n",
      "12/12 [==============================] - 0s 3ms/step - loss: 21.1396 - val_loss: 19.3001\n",
      "Epoch 4/30\n",
      "12/12 [==============================] - 0s 3ms/step - loss: 21.4496 - val_loss: 19.8250\n"
     ]
    },
    {
     "data": {
      "text/plain": [
       "<keras.callbacks.History at 0x7fbc5e533c70>"
      ]
     },
     "execution_count": 20,
     "metadata": {},
     "output_type": "execute_result"
    }
   ],
   "source": [
    "model.fit(X_train, \n",
    "          y_train, \n",
    "          validation_split=0.0, \n",
    "          validation_data=(X_val, y_val),\n",
    "          epochs=30, \n",
    "          callbacks=[early_stopping_monitor])"
   ]
  },
  {
   "cell_type": "code",
   "execution_count": 18,
   "id": "bd834ab3-e0e5-4c3b-8866-2753b52b62e0",
   "metadata": {},
   "outputs": [
    {
     "name": "stdout",
     "output_type": "stream",
     "text": [
      "4/4 [==============================] - 0s 1ms/step\n"
     ]
    },
    {
     "data": {
      "text/plain": [
       "array([[ 6.9910913],\n",
       "       [12.716263 ],\n",
       "       [10.281483 ],\n",
       "       [ 3.8815782],\n",
       "       [ 7.1920066],\n",
       "       [10.026417 ],\n",
       "       [ 5.3114405],\n",
       "       [10.287465 ],\n",
       "       [12.173947 ],\n",
       "       [ 8.01795  ],\n",
       "       [ 9.36623  ],\n",
       "       [13.545427 ],\n",
       "       [ 7.5752707],\n",
       "       [ 7.676775 ],\n",
       "       [ 4.7771416],\n",
       "       [ 5.7619276],\n",
       "       [ 4.2122693],\n",
       "       [ 7.896549 ],\n",
       "       [ 5.254123 ],\n",
       "       [12.006744 ],\n",
       "       [ 7.807425 ],\n",
       "       [ 9.721127 ],\n",
       "       [ 5.869656 ],\n",
       "       [11.624999 ],\n",
       "       [ 6.2168145],\n",
       "       [ 5.604036 ],\n",
       "       [ 6.619551 ],\n",
       "       [11.391342 ],\n",
       "       [ 9.313694 ],\n",
       "       [ 9.102544 ],\n",
       "       [ 9.067106 ],\n",
       "       [11.137327 ],\n",
       "       [ 6.7951202],\n",
       "       [ 9.001675 ],\n",
       "       [ 9.695916 ],\n",
       "       [14.48348  ],\n",
       "       [10.258003 ],\n",
       "       [ 7.1617284],\n",
       "       [ 5.4300423],\n",
       "       [ 7.092858 ],\n",
       "       [ 7.6029286],\n",
       "       [ 7.572657 ],\n",
       "       [ 3.9487574],\n",
       "       [ 6.2529187],\n",
       "       [ 9.140731 ],\n",
       "       [ 7.086826 ],\n",
       "       [ 6.2863507],\n",
       "       [ 4.9838347],\n",
       "       [12.158523 ],\n",
       "       [ 9.6177   ],\n",
       "       [ 8.523312 ],\n",
       "       [ 9.097598 ],\n",
       "       [ 5.883308 ],\n",
       "       [10.510539 ],\n",
       "       [ 5.3225183],\n",
       "       [ 9.137985 ],\n",
       "       [ 5.5354824],\n",
       "       [ 7.3206615],\n",
       "       [ 6.191293 ],\n",
       "       [ 5.6579537],\n",
       "       [ 8.849417 ],\n",
       "       [ 5.816812 ],\n",
       "       [10.19179  ],\n",
       "       [10.418532 ],\n",
       "       [ 7.645181 ],\n",
       "       [ 6.0730987],\n",
       "       [ 7.617158 ],\n",
       "       [ 5.5163164],\n",
       "       [ 7.8775077],\n",
       "       [ 7.789581 ],\n",
       "       [ 7.6405954],\n",
       "       [ 8.365517 ],\n",
       "       [ 9.531504 ],\n",
       "       [ 9.728388 ],\n",
       "       [ 7.875686 ],\n",
       "       [ 6.7645106],\n",
       "       [ 7.2758546],\n",
       "       [ 5.4413342],\n",
       "       [ 8.939569 ],\n",
       "       [ 5.754437 ],\n",
       "       [ 7.718578 ],\n",
       "       [ 9.336161 ],\n",
       "       [ 9.7425785],\n",
       "       [ 8.355929 ],\n",
       "       [ 7.572031 ],\n",
       "       [ 7.801019 ],\n",
       "       [ 9.213242 ],\n",
       "       [ 8.120215 ],\n",
       "       [ 4.9416966],\n",
       "       [ 6.699104 ],\n",
       "       [ 5.5756507],\n",
       "       [ 6.2507334],\n",
       "       [ 7.3686805],\n",
       "       [ 5.5825768],\n",
       "       [ 7.199226 ],\n",
       "       [ 8.1703615],\n",
       "       [ 9.647028 ],\n",
       "       [ 6.699122 ],\n",
       "       [ 7.333833 ],\n",
       "       [10.622354 ],\n",
       "       [ 9.930241 ],\n",
       "       [ 9.899771 ],\n",
       "       [ 5.6773334],\n",
       "       [ 7.6029296],\n",
       "       [ 9.106741 ],\n",
       "       [ 6.0308604],\n",
       "       [ 7.801018 ]], dtype=float32)"
      ]
     },
     "execution_count": 18,
     "metadata": {},
     "output_type": "execute_result"
    }
   ],
   "source": [
    "model.predict(X_test)"
   ]
  },
  {
   "cell_type": "markdown",
   "id": "df35b106-ad79-46b7-9ad1-7dc5a6939f74",
   "metadata": {},
   "source": [
    "## Task 2"
   ]
  },
  {
   "cell_type": "code",
   "execution_count": 35,
   "id": "9b965745-e58b-460f-be5c-07d0957d36d8",
   "metadata": {},
   "outputs": [],
   "source": [
    "from keras.utils import to_categorical"
   ]
  },
  {
   "cell_type": "code",
   "execution_count": 74,
   "id": "1fc99d56-e987-4e0b-8199-7fd3cf01c7dc",
   "metadata": {},
   "outputs": [
    {
     "name": "stdout",
     "output_type": "stream",
     "text": [
      "106    0\n",
      "189    0\n",
      "504    0\n",
      "477    0\n",
      "350    0\n",
      "Name: manufacturing, dtype: int64\n"
     ]
    }
   ],
   "source": [
    "train_raw = pd.read_csv('./hourly_wages_data.csv')\n",
    "X = train_raw.drop(columns=['manufacturing'])\n",
    "y = train_raw['manufacturing']\n",
    "\n",
    "X_train, X_test, y_train, y_test = train_test_split(X, y, test_size=0.3, random_state=1)\n",
    "X_test, X_val, y_test, y_val = train_test_split(X_test, y_test, test_size=0.33, random_state=1) ## 0.33 * 0.3 = 0.1 for test\n",
    "\n",
    "print(y_train[:5])"
   ]
  },
  {
   "cell_type": "code",
   "execution_count": 93,
   "id": "66b125d2-b50a-4309-bb81-e5a71c2fc7b3",
   "metadata": {},
   "outputs": [
    {
     "name": "stdout",
     "output_type": "stream",
     "text": [
      "[[0. 1.]\n",
      " [0. 1.]\n",
      " [0. 1.]\n",
      " [1. 0.]\n",
      " [1. 0.]]\n"
     ]
    }
   ],
   "source": [
    "y_train_categorical = to_categorical(y_train)\n",
    "y_val_categorical = to_categorical(y_val)\n",
    "y_test_categorical = to_categorical(y_test)\n",
    "print(y_train_2[:5])"
   ]
  },
  {
   "cell_type": "code",
   "execution_count": 94,
   "id": "f40168f5-f7a6-46ca-93db-aea85654b918",
   "metadata": {},
   "outputs": [],
   "source": [
    "model_2 = Sequential()"
   ]
  },
  {
   "cell_type": "code",
   "execution_count": 95,
   "id": "3b60713b-2583-4e62-9c2d-2e75ba81fb68",
   "metadata": {},
   "outputs": [],
   "source": [
    "n_cols_2 = X_train.shape[1]"
   ]
  },
  {
   "cell_type": "code",
   "execution_count": 96,
   "id": "7b05bb3f-ae49-44dc-923d-f5b690c1dde0",
   "metadata": {},
   "outputs": [],
   "source": [
    "model_2.add(Dense(200, activation='relu', input_shape=(n_cols_2,)))\n",
    "model_2.add(Dense(200, activation='relu'))\n",
    "model_2.add(Dense(200, activation='relu'))\n",
    "model_2.add(Dense(2, activation='softmax'))\n"
   ]
  },
  {
   "cell_type": "code",
   "execution_count": 115,
   "id": "94e4f548-3ad4-41e5-9698-9126dcca9219",
   "metadata": {},
   "outputs": [],
   "source": [
    "model_2.compile(optimizer='adam', loss='categorical_crossentropy', metrics=['accuracy'])"
   ]
  },
  {
   "cell_type": "code",
   "execution_count": 116,
   "id": "453e3a2c-7846-44d7-91f3-d92684256e18",
   "metadata": {},
   "outputs": [
    {
     "name": "stdout",
     "output_type": "stream",
     "text": [
      "Epoch 1/30\n",
      "12/12 [==============================] - 1s 11ms/step - loss: 0.4997 - accuracy: 0.8123 - val_loss: 0.5120 - val_accuracy: 0.8333\n",
      "Epoch 2/30\n",
      "12/12 [==============================] - 0s 3ms/step - loss: 0.5040 - accuracy: 0.7989 - val_loss: 0.5139 - val_accuracy: 0.7963\n",
      "Epoch 3/30\n",
      "12/12 [==============================] - 0s 3ms/step - loss: 0.5121 - accuracy: 0.8070 - val_loss: 0.5290 - val_accuracy: 0.7963\n",
      "Epoch 4/30\n",
      "12/12 [==============================] - 0s 3ms/step - loss: 0.4856 - accuracy: 0.8070 - val_loss: 0.5516 - val_accuracy: 0.7407\n"
     ]
    },
    {
     "data": {
      "text/plain": [
       "<keras.callbacks.History at 0x7fbc3952b6a0>"
      ]
     },
     "execution_count": 116,
     "metadata": {},
     "output_type": "execute_result"
    }
   ],
   "source": [
    "model_2.fit(X_train, y_train_categorical, epochs=30, validation_split=0.0, validation_data=(X_val, y_val_categorical), callbacks=[early_stopping_monitor])"
   ]
  },
  {
   "cell_type": "code",
   "execution_count": 117,
   "id": "69c84ca4-57f1-47f6-8678-71e0c967a19e",
   "metadata": {},
   "outputs": [
    {
     "name": "stdout",
     "output_type": "stream",
     "text": [
      "4/4 [==============================] - 0s 1ms/step\n",
      "[[0.9159497  0.08405026]\n",
      " [0.6751858  0.32481423]\n",
      " [0.56436926 0.43563074]\n",
      " [0.96184653 0.03815345]\n",
      " [0.60346156 0.39653847]]\n"
     ]
    }
   ],
   "source": [
    "predictions = model_2.predict(X_test)\n",
    "print(predictions[:5])"
   ]
  },
  {
   "cell_type": "code",
   "execution_count": 118,
   "id": "b2605ecf-5281-40b2-be9d-72eadb067245",
   "metadata": {},
   "outputs": [],
   "source": [
    "model_2.compile(optimizer='adadelta', loss='categorical_crossentropy', metrics=['accuracy'])"
   ]
  },
  {
   "cell_type": "code",
   "execution_count": 119,
   "id": "8bc34613-d666-4073-8e1b-0fcd5e12d8c6",
   "metadata": {},
   "outputs": [
    {
     "name": "stdout",
     "output_type": "stream",
     "text": [
      "Epoch 1/30\n",
      "12/12 [==============================] - 0s 11ms/step - loss: 0.5187 - accuracy: 0.7668 - val_loss: 0.5476 - val_accuracy: 0.7407\n",
      "Epoch 2/30\n",
      "12/12 [==============================] - 0s 3ms/step - loss: 0.5150 - accuracy: 0.7694 - val_loss: 0.5441 - val_accuracy: 0.7407\n",
      "Epoch 3/30\n",
      "12/12 [==============================] - 0s 3ms/step - loss: 0.5117 - accuracy: 0.7748 - val_loss: 0.5404 - val_accuracy: 0.7407\n",
      "Epoch 4/30\n",
      "12/12 [==============================] - 0s 3ms/step - loss: 0.5083 - accuracy: 0.7802 - val_loss: 0.5371 - val_accuracy: 0.7407\n",
      "Epoch 5/30\n",
      "12/12 [==============================] - 0s 3ms/step - loss: 0.5052 - accuracy: 0.7775 - val_loss: 0.5340 - val_accuracy: 0.7407\n",
      "Epoch 6/30\n",
      "12/12 [==============================] - 0s 3ms/step - loss: 0.5023 - accuracy: 0.7855 - val_loss: 0.5310 - val_accuracy: 0.7593\n",
      "Epoch 7/30\n",
      "12/12 [==============================] - 0s 3ms/step - loss: 0.4996 - accuracy: 0.7828 - val_loss: 0.5281 - val_accuracy: 0.7593\n",
      "Epoch 8/30\n",
      "12/12 [==============================] - 0s 3ms/step - loss: 0.4969 - accuracy: 0.7855 - val_loss: 0.5254 - val_accuracy: 0.7593\n",
      "Epoch 9/30\n",
      "12/12 [==============================] - 0s 3ms/step - loss: 0.4944 - accuracy: 0.7962 - val_loss: 0.5228 - val_accuracy: 0.7593\n",
      "Epoch 10/30\n",
      "12/12 [==============================] - 0s 3ms/step - loss: 0.4920 - accuracy: 0.8043 - val_loss: 0.5203 - val_accuracy: 0.7593\n",
      "Epoch 11/30\n",
      "12/12 [==============================] - 0s 3ms/step - loss: 0.4898 - accuracy: 0.8070 - val_loss: 0.5180 - val_accuracy: 0.7593\n",
      "Epoch 12/30\n",
      "12/12 [==============================] - 0s 3ms/step - loss: 0.4877 - accuracy: 0.8097 - val_loss: 0.5157 - val_accuracy: 0.7778\n",
      "Epoch 13/30\n",
      "12/12 [==============================] - 0s 3ms/step - loss: 0.4857 - accuracy: 0.8123 - val_loss: 0.5138 - val_accuracy: 0.7778\n",
      "Epoch 14/30\n",
      "12/12 [==============================] - 0s 3ms/step - loss: 0.4839 - accuracy: 0.8123 - val_loss: 0.5117 - val_accuracy: 0.7778\n",
      "Epoch 15/30\n",
      "12/12 [==============================] - 0s 3ms/step - loss: 0.4821 - accuracy: 0.8123 - val_loss: 0.5099 - val_accuracy: 0.7963\n",
      "Epoch 16/30\n",
      "12/12 [==============================] - 0s 3ms/step - loss: 0.4804 - accuracy: 0.8123 - val_loss: 0.5080 - val_accuracy: 0.7963\n",
      "Epoch 17/30\n",
      "12/12 [==============================] - 0s 3ms/step - loss: 0.4789 - accuracy: 0.8123 - val_loss: 0.5063 - val_accuracy: 0.7963\n",
      "Epoch 18/30\n",
      "12/12 [==============================] - 0s 3ms/step - loss: 0.4774 - accuracy: 0.8123 - val_loss: 0.5047 - val_accuracy: 0.7963\n",
      "Epoch 19/30\n",
      "12/12 [==============================] - 0s 3ms/step - loss: 0.4760 - accuracy: 0.8070 - val_loss: 0.5031 - val_accuracy: 0.7963\n",
      "Epoch 20/30\n",
      "12/12 [==============================] - 0s 3ms/step - loss: 0.4746 - accuracy: 0.8097 - val_loss: 0.5017 - val_accuracy: 0.7963\n",
      "Epoch 21/30\n",
      "12/12 [==============================] - 0s 3ms/step - loss: 0.4733 - accuracy: 0.8097 - val_loss: 0.5002 - val_accuracy: 0.7963\n",
      "Epoch 22/30\n",
      "12/12 [==============================] - 0s 3ms/step - loss: 0.4721 - accuracy: 0.8070 - val_loss: 0.4989 - val_accuracy: 0.7963\n",
      "Epoch 23/30\n",
      "12/12 [==============================] - 0s 3ms/step - loss: 0.4710 - accuracy: 0.8070 - val_loss: 0.4976 - val_accuracy: 0.7963\n",
      "Epoch 24/30\n",
      "12/12 [==============================] - 0s 3ms/step - loss: 0.4699 - accuracy: 0.8070 - val_loss: 0.4965 - val_accuracy: 0.7963\n",
      "Epoch 25/30\n",
      "12/12 [==============================] - 0s 3ms/step - loss: 0.4690 - accuracy: 0.8070 - val_loss: 0.4953 - val_accuracy: 0.7963\n",
      "Epoch 26/30\n",
      "12/12 [==============================] - 0s 3ms/step - loss: 0.4680 - accuracy: 0.8070 - val_loss: 0.4941 - val_accuracy: 0.7963\n",
      "Epoch 27/30\n",
      "12/12 [==============================] - 0s 3ms/step - loss: 0.4671 - accuracy: 0.8070 - val_loss: 0.4931 - val_accuracy: 0.7963\n",
      "Epoch 28/30\n",
      "12/12 [==============================] - 0s 3ms/step - loss: 0.4663 - accuracy: 0.8070 - val_loss: 0.4921 - val_accuracy: 0.7963\n",
      "Epoch 29/30\n",
      "12/12 [==============================] - 0s 3ms/step - loss: 0.4655 - accuracy: 0.8043 - val_loss: 0.4911 - val_accuracy: 0.7963\n",
      "Epoch 30/30\n",
      "12/12 [==============================] - 0s 3ms/step - loss: 0.4648 - accuracy: 0.8070 - val_loss: 0.4902 - val_accuracy: 0.7963\n"
     ]
    },
    {
     "data": {
      "text/plain": [
       "<keras.callbacks.History at 0x7fbc4b4e7940>"
      ]
     },
     "execution_count": 119,
     "metadata": {},
     "output_type": "execute_result"
    }
   ],
   "source": [
    "model_2.fit(X_train, y_train_categorical, epochs=30, validation_split=0.0, validation_data=(X_val, y_val_categorical), callbacks=[early_stopping_monitor])"
   ]
  },
  {
   "cell_type": "code",
   "execution_count": 120,
   "id": "0188b7ca-480f-4f1a-a25d-08d0afa4b535",
   "metadata": {},
   "outputs": [
    {
     "name": "stdout",
     "output_type": "stream",
     "text": [
      "4/4 [==============================] - 0s 1ms/step\n",
      "[[0.9448819  0.05511807]\n",
      " [0.8178056  0.18219446]\n",
      " [0.64927495 0.35072497]\n",
      " [0.97308457 0.02691546]\n",
      " [0.74513066 0.25486934]]\n"
     ]
    }
   ],
   "source": [
    "predictions = model_2.predict(X_test)\n",
    "print(predictions[:5])"
   ]
  },
  {
   "cell_type": "code",
   "execution_count": 121,
   "id": "fa941ba2-c9f3-4dc5-89ca-4692ef390645",
   "metadata": {},
   "outputs": [],
   "source": [
    "# Comparing Adam and Adadelta we see that adadelta predicts more accurate due to stepsize"
   ]
  },
  {
   "cell_type": "code",
   "execution_count": 122,
   "id": "3d29433b-9ed1-479a-a0da-d2a4427d3d00",
   "metadata": {},
   "outputs": [
    {
     "ename": "ValueError",
     "evalue": "x has 9 columns but y has 2 columns",
     "output_type": "error",
     "traceback": [
      "\u001b[0;31m---------------------------------------------------------------------------\u001b[0m",
      "\u001b[0;31mValueError\u001b[0m                                Traceback (most recent call last)",
      "Input \u001b[0;32mIn [122]\u001b[0m, in \u001b[0;36m<cell line: 2>\u001b[0;34m()\u001b[0m\n\u001b[1;32m      1\u001b[0m plt\u001b[38;5;241m.\u001b[39mfigure(dpi\u001b[38;5;241m=\u001b[39m\u001b[38;5;241m100\u001b[39m)\n\u001b[0;32m----> 2\u001b[0m \u001b[43mplt\u001b[49m\u001b[38;5;241;43m.\u001b[39;49m\u001b[43mplot\u001b[49m\u001b[43m(\u001b[49m\u001b[43mX_test\u001b[49m\u001b[43m,\u001b[49m\u001b[43m \u001b[49m\u001b[43mpredictions\u001b[49m\u001b[43m,\u001b[49m\u001b[43m \u001b[49m\u001b[38;5;124;43m'\u001b[39;49m\u001b[38;5;124;43mk\u001b[39;49m\u001b[38;5;124;43m'\u001b[39;49m\u001b[43m)\u001b[49m\n",
      "File \u001b[0;32m~/.conda/envs/deep-learning-lab-1/lib/python3.10/site-packages/matplotlib/pyplot.py:2769\u001b[0m, in \u001b[0;36mplot\u001b[0;34m(scalex, scaley, data, *args, **kwargs)\u001b[0m\n\u001b[1;32m   2767\u001b[0m \u001b[38;5;129m@_copy_docstring_and_deprecators\u001b[39m(Axes\u001b[38;5;241m.\u001b[39mplot)\n\u001b[1;32m   2768\u001b[0m \u001b[38;5;28;01mdef\u001b[39;00m \u001b[38;5;21mplot\u001b[39m(\u001b[38;5;241m*\u001b[39margs, scalex\u001b[38;5;241m=\u001b[39m\u001b[38;5;28;01mTrue\u001b[39;00m, scaley\u001b[38;5;241m=\u001b[39m\u001b[38;5;28;01mTrue\u001b[39;00m, data\u001b[38;5;241m=\u001b[39m\u001b[38;5;28;01mNone\u001b[39;00m, \u001b[38;5;241m*\u001b[39m\u001b[38;5;241m*\u001b[39mkwargs):\n\u001b[0;32m-> 2769\u001b[0m     \u001b[38;5;28;01mreturn\u001b[39;00m \u001b[43mgca\u001b[49m\u001b[43m(\u001b[49m\u001b[43m)\u001b[49m\u001b[38;5;241;43m.\u001b[39;49m\u001b[43mplot\u001b[49m\u001b[43m(\u001b[49m\n\u001b[1;32m   2770\u001b[0m \u001b[43m        \u001b[49m\u001b[38;5;241;43m*\u001b[39;49m\u001b[43margs\u001b[49m\u001b[43m,\u001b[49m\u001b[43m \u001b[49m\u001b[43mscalex\u001b[49m\u001b[38;5;241;43m=\u001b[39;49m\u001b[43mscalex\u001b[49m\u001b[43m,\u001b[49m\u001b[43m \u001b[49m\u001b[43mscaley\u001b[49m\u001b[38;5;241;43m=\u001b[39;49m\u001b[43mscaley\u001b[49m\u001b[43m,\u001b[49m\n\u001b[1;32m   2771\u001b[0m \u001b[43m        \u001b[49m\u001b[38;5;241;43m*\u001b[39;49m\u001b[38;5;241;43m*\u001b[39;49m\u001b[43m(\u001b[49m\u001b[43m{\u001b[49m\u001b[38;5;124;43m\"\u001b[39;49m\u001b[38;5;124;43mdata\u001b[39;49m\u001b[38;5;124;43m\"\u001b[39;49m\u001b[43m:\u001b[49m\u001b[43m \u001b[49m\u001b[43mdata\u001b[49m\u001b[43m}\u001b[49m\u001b[43m \u001b[49m\u001b[38;5;28;43;01mif\u001b[39;49;00m\u001b[43m \u001b[49m\u001b[43mdata\u001b[49m\u001b[43m \u001b[49m\u001b[38;5;129;43;01mis\u001b[39;49;00m\u001b[43m \u001b[49m\u001b[38;5;129;43;01mnot\u001b[39;49;00m\u001b[43m \u001b[49m\u001b[38;5;28;43;01mNone\u001b[39;49;00m\u001b[43m \u001b[49m\u001b[38;5;28;43;01melse\u001b[39;49;00m\u001b[43m \u001b[49m\u001b[43m{\u001b[49m\u001b[43m}\u001b[49m\u001b[43m)\u001b[49m\u001b[43m,\u001b[49m\u001b[43m \u001b[49m\u001b[38;5;241;43m*\u001b[39;49m\u001b[38;5;241;43m*\u001b[39;49m\u001b[43mkwargs\u001b[49m\u001b[43m)\u001b[49m\n",
      "File \u001b[0;32m~/.conda/envs/deep-learning-lab-1/lib/python3.10/site-packages/matplotlib/axes/_axes.py:1632\u001b[0m, in \u001b[0;36mAxes.plot\u001b[0;34m(self, scalex, scaley, data, *args, **kwargs)\u001b[0m\n\u001b[1;32m   1390\u001b[0m \u001b[38;5;124;03m\"\"\"\u001b[39;00m\n\u001b[1;32m   1391\u001b[0m \u001b[38;5;124;03mPlot y versus x as lines and/or markers.\u001b[39;00m\n\u001b[1;32m   1392\u001b[0m \n\u001b[0;32m   (...)\u001b[0m\n\u001b[1;32m   1629\u001b[0m \u001b[38;5;124;03m(``'green'``) or hex strings (``'#008000'``).\u001b[39;00m\n\u001b[1;32m   1630\u001b[0m \u001b[38;5;124;03m\"\"\"\u001b[39;00m\n\u001b[1;32m   1631\u001b[0m kwargs \u001b[38;5;241m=\u001b[39m cbook\u001b[38;5;241m.\u001b[39mnormalize_kwargs(kwargs, mlines\u001b[38;5;241m.\u001b[39mLine2D)\n\u001b[0;32m-> 1632\u001b[0m lines \u001b[38;5;241m=\u001b[39m [\u001b[38;5;241m*\u001b[39m\u001b[38;5;28mself\u001b[39m\u001b[38;5;241m.\u001b[39m_get_lines(\u001b[38;5;241m*\u001b[39margs, data\u001b[38;5;241m=\u001b[39mdata, \u001b[38;5;241m*\u001b[39m\u001b[38;5;241m*\u001b[39mkwargs)]\n\u001b[1;32m   1633\u001b[0m \u001b[38;5;28;01mfor\u001b[39;00m line \u001b[38;5;129;01min\u001b[39;00m lines:\n\u001b[1;32m   1634\u001b[0m     \u001b[38;5;28mself\u001b[39m\u001b[38;5;241m.\u001b[39madd_line(line)\n",
      "File \u001b[0;32m~/.conda/envs/deep-learning-lab-1/lib/python3.10/site-packages/matplotlib/axes/_base.py:312\u001b[0m, in \u001b[0;36m_process_plot_var_args.__call__\u001b[0;34m(self, data, *args, **kwargs)\u001b[0m\n\u001b[1;32m    310\u001b[0m     this \u001b[38;5;241m+\u001b[39m\u001b[38;5;241m=\u001b[39m args[\u001b[38;5;241m0\u001b[39m],\n\u001b[1;32m    311\u001b[0m     args \u001b[38;5;241m=\u001b[39m args[\u001b[38;5;241m1\u001b[39m:]\n\u001b[0;32m--> 312\u001b[0m \u001b[38;5;28;01myield from\u001b[39;00m \u001b[38;5;28;43mself\u001b[39;49m\u001b[38;5;241;43m.\u001b[39;49m\u001b[43m_plot_args\u001b[49m\u001b[43m(\u001b[49m\u001b[43mthis\u001b[49m\u001b[43m,\u001b[49m\u001b[43m \u001b[49m\u001b[43mkwargs\u001b[49m\u001b[43m)\u001b[49m\n",
      "File \u001b[0;32m~/.conda/envs/deep-learning-lab-1/lib/python3.10/site-packages/matplotlib/axes/_base.py:516\u001b[0m, in \u001b[0;36m_process_plot_var_args._plot_args\u001b[0;34m(self, tup, kwargs, return_kwargs)\u001b[0m\n\u001b[1;32m    514\u001b[0m ncx, ncy \u001b[38;5;241m=\u001b[39m x\u001b[38;5;241m.\u001b[39mshape[\u001b[38;5;241m1\u001b[39m], y\u001b[38;5;241m.\u001b[39mshape[\u001b[38;5;241m1\u001b[39m]\n\u001b[1;32m    515\u001b[0m \u001b[38;5;28;01mif\u001b[39;00m ncx \u001b[38;5;241m>\u001b[39m \u001b[38;5;241m1\u001b[39m \u001b[38;5;129;01mand\u001b[39;00m ncy \u001b[38;5;241m>\u001b[39m \u001b[38;5;241m1\u001b[39m \u001b[38;5;129;01mand\u001b[39;00m ncx \u001b[38;5;241m!=\u001b[39m ncy:\n\u001b[0;32m--> 516\u001b[0m     \u001b[38;5;28;01mraise\u001b[39;00m \u001b[38;5;167;01mValueError\u001b[39;00m(\u001b[38;5;124mf\u001b[39m\u001b[38;5;124m\"\u001b[39m\u001b[38;5;124mx has \u001b[39m\u001b[38;5;132;01m{\u001b[39;00mncx\u001b[38;5;132;01m}\u001b[39;00m\u001b[38;5;124m columns but y has \u001b[39m\u001b[38;5;132;01m{\u001b[39;00mncy\u001b[38;5;132;01m}\u001b[39;00m\u001b[38;5;124m columns\u001b[39m\u001b[38;5;124m\"\u001b[39m)\n\u001b[1;32m    517\u001b[0m \u001b[38;5;28;01mif\u001b[39;00m ncx \u001b[38;5;241m==\u001b[39m \u001b[38;5;241m0\u001b[39m \u001b[38;5;129;01mor\u001b[39;00m ncy \u001b[38;5;241m==\u001b[39m \u001b[38;5;241m0\u001b[39m:\n\u001b[1;32m    518\u001b[0m     \u001b[38;5;28;01mreturn\u001b[39;00m []\n",
      "\u001b[0;31mValueError\u001b[0m: x has 9 columns but y has 2 columns"
     ]
    },
    {
     "data": {
      "image/png": "[encoded data removed]",
      "text/plain": [
       "<Figure size 640x480 with 1 Axes>"
      ]
     },
     "metadata": {},
     "output_type": "display_data"
    }
   ],
   "source": [
    "plt.figure(dpi=100)\n",
    "plt.plot(X_test, predictions, 'k')\n"
   ]
  },
  {
   "cell_type": "code",
   "execution_count": null,
   "id": "f85c3992-21a3-4f3e-8f12-b4942b9db344",
   "metadata": {},
   "outputs": [],
   "source": []
  }
 ],
 "metadata": {
  "kernelspec": {
   "display_name": "Python 3 (ipykernel)",
   "language": "python",
   "name": "python3"
  },
  "language_info": {
   "codemirror_mode": {
    "name": "ipython",
    "version": 3
   },
   "file_extension": ".py",
   "mimetype": "text/x-python",
   "name": "python",
   "nbconvert_exporter": "python",
   "pygments_lexer": "ipython3",
   "version": "3.10.6"
  }
 },
 "nbformat": 4,
 "nbformat_minor": 5
}
