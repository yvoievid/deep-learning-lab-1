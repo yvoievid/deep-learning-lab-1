{
 "cells": [
  {
   "cell_type": "markdown",
   "id": "9847470e-089c-46ea-a448-77db89a7b40f",
   "metadata": {},
   "source": [
    "# Lab 1\n",
    "`By Yurii Voievidka`"
   ]
  },
  {
   "cell_type": "markdown",
   "id": "16460c71-9058-4aa0-908a-fe993804b53e",
   "metadata": {},
   "source": [
    "## Task 1"
   ]
  },
  {
   "cell_type": "code",
   "execution_count": 1,
   "id": "35b60b70-b852-4f6f-a6ae-9ed31470628d",
   "metadata": {},
   "outputs": [],
   "source": [
    "import pandas as pd"
   ]
  },
  {
   "cell_type": "code",
   "execution_count": 2,
   "id": "1b13237b-b76e-4867-9089-49415c99bbfb",
   "metadata": {},
   "outputs": [],
   "source": [
    "train_raw = pd.read_csv('hourly_wages_data.csv')\n",
    "X = train_raw.drop(columns=['wage_per_hour'])\n",
    "y = train_raw['wage_per_hour']"
   ]
  },
  {
   "cell_type": "code",
   "execution_count": 3,
   "id": "c117959e-58b7-498f-8633-62316bc18f4b",
   "metadata": {},
   "outputs": [],
   "source": [
    "from sklearn.model_selection import train_test_split\n",
    "\n",
    "X_train, X_test, y_train, y_test = train_test_split(X, y, test_size=0.3, random_state=1)\n",
    "X_test, X_val, y_test, y_val = train_test_split(X_test, y_test, test_size=0.33, random_state=1) ## 0.33 * 0.3 = 0.1 for test\n"
   ]
  },
  {
   "cell_type": "code",
   "execution_count": 4,
   "id": "923a98f5-6d48-4c2d-9685-88c8a6b3fc70",
   "metadata": {},
   "outputs": [],
   "source": [
    "## Scaling and Normalization\n",
    "from scipy import stats\n",
    "\n",
    "# for min_max scaling\n",
    "from mlxtend.preprocessing import minmax_scaling\n",
    "\n",
    "# plotting modules\n",
    "import seaborn as sns\n",
    "import matplotlib.pyplot as plt\n",
    "import numpy as np"
   ]
  },
  {
   "cell_type": "code",
   "execution_count": 5,
   "id": "a760fb0d-4f60-4026-a660-f429f7ff5c19",
   "metadata": {},
   "outputs": [
    {
     "data": {
      "text/html": [
       "<div>\n",
       "<style scoped>\n",
       "    .dataframe tbody tr th:only-of-type {\n",
       "        vertical-align: middle;\n",
       "    }\n",
       "\n",
       "    .dataframe tbody tr th {\n",
       "        vertical-align: top;\n",
       "    }\n",
       "\n",
       "    .dataframe thead th {\n",
       "        text-align: right;\n",
       "    }\n",
       "</style>\n",
       "<table border=\"1\" class=\"dataframe\">\n",
       "  <thead>\n",
       "    <tr style=\"text-align: right;\">\n",
       "      <th></th>\n",
       "      <th>union</th>\n",
       "      <th>education_yrs</th>\n",
       "      <th>experience_yrs</th>\n",
       "      <th>age</th>\n",
       "      <th>female</th>\n",
       "      <th>marr</th>\n",
       "      <th>south</th>\n",
       "      <th>manufacturing</th>\n",
       "      <th>construction</th>\n",
       "    </tr>\n",
       "  </thead>\n",
       "  <tbody>\n",
       "    <tr>\n",
       "      <th>106</th>\n",
       "      <td>1</td>\n",
       "      <td>14</td>\n",
       "      <td>21</td>\n",
       "      <td>41</td>\n",
       "      <td>0</td>\n",
       "      <td>1</td>\n",
       "      <td>0</td>\n",
       "      <td>0</td>\n",
       "      <td>0</td>\n",
       "    </tr>\n",
       "    <tr>\n",
       "      <th>189</th>\n",
       "      <td>0</td>\n",
       "      <td>18</td>\n",
       "      <td>14</td>\n",
       "      <td>38</td>\n",
       "      <td>1</td>\n",
       "      <td>1</td>\n",
       "      <td>0</td>\n",
       "      <td>0</td>\n",
       "      <td>0</td>\n",
       "    </tr>\n",
       "    <tr>\n",
       "      <th>504</th>\n",
       "      <td>0</td>\n",
       "      <td>17</td>\n",
       "      <td>10</td>\n",
       "      <td>33</td>\n",
       "      <td>1</td>\n",
       "      <td>0</td>\n",
       "      <td>0</td>\n",
       "      <td>0</td>\n",
       "      <td>0</td>\n",
       "    </tr>\n",
       "    <tr>\n",
       "      <th>477</th>\n",
       "      <td>0</td>\n",
       "      <td>18</td>\n",
       "      <td>27</td>\n",
       "      <td>51</td>\n",
       "      <td>0</td>\n",
       "      <td>1</td>\n",
       "      <td>0</td>\n",
       "      <td>0</td>\n",
       "      <td>0</td>\n",
       "    </tr>\n",
       "    <tr>\n",
       "      <th>350</th>\n",
       "      <td>0</td>\n",
       "      <td>2</td>\n",
       "      <td>16</td>\n",
       "      <td>24</td>\n",
       "      <td>0</td>\n",
       "      <td>0</td>\n",
       "      <td>0</td>\n",
       "      <td>0</td>\n",
       "      <td>0</td>\n",
       "    </tr>\n",
       "  </tbody>\n",
       "</table>\n",
       "</div>"
      ],
      "text/plain": [
       "     union  education_yrs  experience_yrs  age  female  marr  south  \\\n",
       "106      1             14              21   41       0     1      0   \n",
       "189      0             18              14   38       1     1      0   \n",
       "504      0             17              10   33       1     0      0   \n",
       "477      0             18              27   51       0     1      0   \n",
       "350      0              2              16   24       0     0      0   \n",
       "\n",
       "     manufacturing  construction  \n",
       "106              0             0  \n",
       "189              0             0  \n",
       "504              0             0  \n",
       "477              0             0  \n",
       "350              0             0  "
      ]
     },
     "execution_count": 5,
     "metadata": {},
     "output_type": "execute_result"
    }
   ],
   "source": [
    "X_train.head()"
   ]
  },
  {
   "cell_type": "code",
   "execution_count": 6,
   "id": "cc012123-1a4d-4d3d-93ca-24154f55a69f",
   "metadata": {},
   "outputs": [],
   "source": [
    "## Scaling\n",
    "\n",
    "# scaled_X = minmax_scaling(y_train, columns=['wage_per_hour'])\n",
    "# ax = sns.histplot(scaled_X, kde=True)\n",
    "# ax.set_title('Scaled wages')\n",
    "# ax.show()\n"
   ]
  },
  {
   "cell_type": "code",
   "execution_count": 7,
   "id": "1fee711e-e30c-4fb7-bbe7-5850e6e79308",
   "metadata": {},
   "outputs": [
    {
     "name": "stderr",
     "output_type": "stream",
     "text": [
      "2022-10-18 00:08:36.841301: I tensorflow/core/platform/cpu_feature_guard.cc:193] This TensorFlow binary is optimized with oneAPI Deep Neural Network Library (oneDNN) to use the following CPU instructions in performance-critical operations:  SSE4.1 SSE4.2\n",
      "To enable them in other operations, rebuild TensorFlow with the appropriate compiler flags.\n"
     ]
    }
   ],
   "source": [
    "from keras.models import Sequential\n",
    "from keras.layers import Dense\n",
    "from keras.callbacks import EarlyStopping\n",
    "early_stopping_monitor = EarlyStopping(patience=3)\n",
    "\n",
    "n_cols = X_train.shape[1]\n",
    "\n",
    "model = Sequential([\n",
    "    Dense(200, activation='relu', input_shape=(n_cols, )),\n",
    "    Dense(200, activation='relu'),\n",
    "    Dense(200, activation='relu'),\n",
    "    Dense(1)\n",
    "])"
   ]
  },
  {
   "cell_type": "code",
   "execution_count": 8,
   "id": "acfdba38-613c-41c6-a500-4518ca6927ac",
   "metadata": {},
   "outputs": [],
   "source": [
    "model.compile(optimizer='adam', loss='mean_squared_error')"
   ]
  },
  {
   "cell_type": "code",
   "execution_count": 9,
   "id": "6626ad47-0ded-4ad7-96d4-7f36d1b7340f",
   "metadata": {},
   "outputs": [
    {
     "name": "stdout",
     "output_type": "stream",
     "text": [
      "Epoch 1/30\n",
      "12/12 [==============================] - 0s 10ms/step - loss: 40.5227 - val_loss: 29.3197\n",
      "Epoch 2/30\n",
      "12/12 [==============================] - 0s 3ms/step - loss: 25.2268 - val_loss: 32.9657\n",
      "Epoch 3/30\n",
      "12/12 [==============================] - 0s 3ms/step - loss: 24.9500 - val_loss: 25.7190\n",
      "Epoch 4/30\n",
      "12/12 [==============================] - 0s 3ms/step - loss: 23.8459 - val_loss: 25.2678\n",
      "Epoch 5/30\n",
      "12/12 [==============================] - 0s 3ms/step - loss: 23.9515 - val_loss: 25.0518\n",
      "Epoch 6/30\n",
      "12/12 [==============================] - 0s 3ms/step - loss: 24.4670 - val_loss: 26.0092\n",
      "Epoch 7/30\n",
      "12/12 [==============================] - 0s 3ms/step - loss: 23.9189 - val_loss: 24.3667\n",
      "Epoch 8/30\n",
      "12/12 [==============================] - 0s 3ms/step - loss: 23.3178 - val_loss: 24.9473\n",
      "Epoch 9/30\n",
      "12/12 [==============================] - 0s 3ms/step - loss: 23.6546 - val_loss: 25.8090\n",
      "Epoch 10/30\n",
      "12/12 [==============================] - 0s 3ms/step - loss: 24.1799 - val_loss: 24.0769\n",
      "Epoch 11/30\n",
      "12/12 [==============================] - 0s 4ms/step - loss: 23.4825 - val_loss: 24.8425\n",
      "Epoch 12/30\n",
      "12/12 [==============================] - 0s 3ms/step - loss: 23.0364 - val_loss: 25.1584\n",
      "Epoch 13/30\n",
      "12/12 [==============================] - 0s 3ms/step - loss: 23.3232 - val_loss: 24.7935\n"
     ]
    }
   ],
   "source": [
    "history = model.fit(X_train, \n",
    "          y_train, \n",
    "          validation_split=0.0, \n",
    "          validation_data=(X_val, y_val),\n",
    "          epochs=30, \n",
    "          callbacks=[early_stopping_monitor])"
   ]
  },
  {
   "cell_type": "code",
   "execution_count": 10,
   "id": "bd834ab3-e0e5-4c3b-8866-2753b52b62e0",
   "metadata": {},
   "outputs": [
    {
     "name": "stdout",
     "output_type": "stream",
     "text": [
      "4/4 [==============================] - 0s 1ms/step\n"
     ]
    },
    {
     "data": {
      "text/plain": [
       "array([[ 9.654477 ],\n",
       "       [14.600394 ],\n",
       "       [12.210404 ],\n",
       "       [ 7.344232 ],\n",
       "       [ 9.157928 ],\n",
       "       [11.609006 ],\n",
       "       [ 6.911649 ],\n",
       "       [11.925357 ],\n",
       "       [12.961436 ],\n",
       "       [ 9.85591  ],\n",
       "       [12.318849 ],\n",
       "       [14.97937  ],\n",
       "       [ 9.778628 ],\n",
       "       [10.981856 ],\n",
       "       [ 7.5041366],\n",
       "       [ 8.830732 ],\n",
       "       [ 7.652308 ],\n",
       "       [10.688447 ],\n",
       "       [ 8.097541 ],\n",
       "       [13.66589  ],\n",
       "       [10.539176 ],\n",
       "       [11.79624  ],\n",
       "       [ 8.983464 ],\n",
       "       [13.215686 ],\n",
       "       [ 9.008049 ],\n",
       "       [ 8.478161 ],\n",
       "       [ 9.3626585],\n",
       "       [12.379261 ],\n",
       "       [12.166321 ],\n",
       "       [10.208159 ],\n",
       "       [11.598562 ],\n",
       "       [12.186245 ],\n",
       "       [ 9.513345 ],\n",
       "       [10.561176 ],\n",
       "       [12.367416 ],\n",
       "       [15.076435 ],\n",
       "       [12.304061 ],\n",
       "       [ 9.715716 ],\n",
       "       [ 7.967684 ],\n",
       "       [10.017662 ],\n",
       "       [10.462884 ],\n",
       "       [ 9.335803 ],\n",
       "       [ 7.2661443],\n",
       "       [ 9.239567 ],\n",
       "       [11.469635 ],\n",
       "       [ 9.702149 ],\n",
       "       [ 8.316966 ],\n",
       "       [ 7.0218043],\n",
       "       [13.817407 ],\n",
       "       [11.301563 ],\n",
       "       [11.263197 ],\n",
       "       [10.923365 ],\n",
       "       [ 8.734666 ],\n",
       "       [10.698543 ],\n",
       "       [ 7.365708 ],\n",
       "       [10.2291565],\n",
       "       [ 8.470278 ],\n",
       "       [10.767465 ],\n",
       "       [ 9.213083 ],\n",
       "       [ 8.656346 ],\n",
       "       [ 9.971937 ],\n",
       "       [ 8.1882105],\n",
       "       [11.738098 ],\n",
       "       [12.49115  ],\n",
       "       [10.366633 ],\n",
       "       [ 8.465889 ],\n",
       "       [10.458304 ],\n",
       "       [ 7.654043 ],\n",
       "       [10.771932 ],\n",
       "       [ 9.263825 ],\n",
       "       [10.675916 ],\n",
       "       [10.531899 ],\n",
       "       [ 9.873126 ],\n",
       "       [10.527317 ],\n",
       "       [ 9.583479 ],\n",
       "       [ 9.352553 ],\n",
       "       [ 9.13996  ],\n",
       "       [ 7.7574143],\n",
       "       [10.776782 ],\n",
       "       [ 8.5654335],\n",
       "       [10.782264 ],\n",
       "       [10.220009 ],\n",
       "       [12.359866 ],\n",
       "       [10.050809 ],\n",
       "       [10.001128 ],\n",
       "       [ 9.519583 ],\n",
       "       [11.119607 ],\n",
       "       [10.16038  ],\n",
       "       [ 7.6574254],\n",
       "       [ 9.557903 ],\n",
       "       [ 7.1861258],\n",
       "       [ 8.420884 ],\n",
       "       [ 9.316981 ],\n",
       "       [ 8.479489 ],\n",
       "       [ 9.908715 ],\n",
       "       [ 9.839146 ],\n",
       "       [12.346385 ],\n",
       "       [ 8.559052 ],\n",
       "       [ 9.149472 ],\n",
       "       [10.840351 ],\n",
       "       [12.530105 ],\n",
       "       [11.663341 ],\n",
       "       [ 8.259959 ],\n",
       "       [10.462884 ],\n",
       "       [10.0565815],\n",
       "       [ 9.414261 ],\n",
       "       [ 9.519584 ]], dtype=float32)"
      ]
     },
     "execution_count": 10,
     "metadata": {},
     "output_type": "execute_result"
    }
   ],
   "source": [
    "model.predict(X_test)"
   ]
  },
  {
   "cell_type": "code",
   "execution_count": 11,
   "id": "8f65791d-a835-4e32-90fe-590849526cc9",
   "metadata": {},
   "outputs": [
    {
     "data": {
      "text/plain": [
       "<AxesSubplot:title={'center':'loss plot'}>"
      ]
     },
     "execution_count": 11,
     "metadata": {},
     "output_type": "execute_result"
    },
    {
     "data": {
      "image/png": "[encoded data removed]",
      "text/plain": [
       "<Figure size 640x480 with 1 Axes>"
      ]
     },
     "metadata": {},
     "output_type": "display_data"
    }
   ],
   "source": [
    "model_dataframe = pd.DataFrame(history.history)\n",
    "model_dataframe.loc[:, ['loss', 'val_loss']].plot(title='loss plot')\n"
   ]
  },
  {
   "cell_type": "code",
   "execution_count": 12,
   "id": "d9e98ac9-572d-48a9-a9c9-20f3aa6c56f4",
   "metadata": {},
   "outputs": [],
   "source": [
    "model.compile(optimizer='sgd', loss='mae')"
   ]
  },
  {
   "cell_type": "code",
   "execution_count": 13,
   "id": "bf4dbaa9-e52a-4541-a518-151cc92edc7a",
   "metadata": {},
   "outputs": [
    {
     "name": "stdout",
     "output_type": "stream",
     "text": [
      "Epoch 1/30\n",
      "12/12 [==============================] - 0s 9ms/step - loss: 4.6648 - val_loss: 3.5045\n",
      "Epoch 2/30\n",
      "12/12 [==============================] - 0s 3ms/step - loss: 3.9634 - val_loss: 4.0097\n",
      "Epoch 3/30\n",
      "12/12 [==============================] - 0s 3ms/step - loss: 3.8805 - val_loss: 3.7711\n",
      "Epoch 4/30\n",
      "12/12 [==============================] - 0s 3ms/step - loss: 3.7675 - val_loss: 3.4941\n",
      "Epoch 5/30\n",
      "12/12 [==============================] - 0s 3ms/step - loss: 3.8258 - val_loss: 3.7142\n",
      "Epoch 6/30\n",
      "12/12 [==============================] - 0s 3ms/step - loss: 3.6079 - val_loss: 4.3159\n",
      "Epoch 7/30\n",
      "12/12 [==============================] - 0s 3ms/step - loss: 3.9936 - val_loss: 3.6370\n"
     ]
    }
   ],
   "source": [
    "history = model.fit(X_train, \n",
    "          y_train, \n",
    "          validation_split=0.0, \n",
    "          validation_data=(X_val, y_val),\n",
    "          epochs=30, \n",
    "          callbacks=[early_stopping_monitor])"
   ]
  },
  {
   "cell_type": "code",
   "execution_count": 14,
   "id": "2f532612-ebbf-4096-8d15-ee4be622c620",
   "metadata": {},
   "outputs": [
    {
     "name": "stdout",
     "output_type": "stream",
     "text": [
      "4/4 [==============================] - 0s 1ms/step\n"
     ]
    }
   ],
   "source": [
    "predictions = model.predict(X_test)"
   ]
  },
  {
   "cell_type": "code",
   "execution_count": 15,
   "id": "a5f622b3-acf9-4f7c-81af-0734ac84ccf6",
   "metadata": {},
   "outputs": [
    {
     "data": {
      "text/plain": [
       "<AxesSubplot:title={'center':'loss plot'}>"
      ]
     },
     "execution_count": 15,
     "metadata": {},
     "output_type": "execute_result"
    },
    {
     "data": {
      "image/png": "[encoded data removed]",
      "text/plain": [
       "<Figure size 640x480 with 1 Axes>"
      ]
     },
     "metadata": {},
     "output_type": "display_data"
    }
   ],
   "source": [
    "model_dataframe = pd.DataFrame(history.history)\n",
    "model_dataframe['loss'].plot(title='loss plot')\n"
   ]
  },
  {
   "cell_type": "markdown",
   "id": "df35b106-ad79-46b7-9ad1-7dc5a6939f74",
   "metadata": {},
   "source": [
    "## Task 2"
   ]
  },
  {
   "cell_type": "code",
   "execution_count": 16,
   "id": "9b965745-e58b-460f-be5c-07d0957d36d8",
   "metadata": {},
   "outputs": [],
   "source": [
    "from keras.utils import to_categorical"
   ]
  },
  {
   "cell_type": "code",
   "execution_count": 17,
   "id": "1fc99d56-e987-4e0b-8199-7fd3cf01c7dc",
   "metadata": {},
   "outputs": [
    {
     "name": "stdout",
     "output_type": "stream",
     "text": [
      "106    0\n",
      "189    0\n",
      "504    0\n",
      "477    0\n",
      "350    0\n",
      "Name: manufacturing, dtype: int64\n"
     ]
    }
   ],
   "source": [
    "train_raw = pd.read_csv('./hourly_wages_data.csv')\n",
    "X = train_raw.drop(columns=['manufacturing'])\n",
    "y = train_raw['manufacturing']\n",
    "\n",
    "X_train, X_test, y_train, y_test = train_test_split(X, y, test_size=0.3, random_state=1)\n",
    "X_test, X_val, y_test, y_val = train_test_split(X_test, y_test, test_size=0.33, random_state=1) ## 0.33 * 0.3 = 0.1 for test\n",
    "\n",
    "print(y_train[:5])"
   ]
  },
  {
   "cell_type": "code",
   "execution_count": 18,
   "id": "66b125d2-b50a-4309-bb81-e5a71c2fc7b3",
   "metadata": {},
   "outputs": [],
   "source": [
    "y_train_categorical = to_categorical(y_train)\n",
    "y_val_categorical = to_categorical(y_val)\n",
    "y_test_categorical = to_categorical(y_test)\n"
   ]
  },
  {
   "cell_type": "code",
   "execution_count": 19,
   "id": "f40168f5-f7a6-46ca-93db-aea85654b918",
   "metadata": {},
   "outputs": [],
   "source": [
    "model_2 = Sequential()"
   ]
  },
  {
   "cell_type": "code",
   "execution_count": 20,
   "id": "3b60713b-2583-4e62-9c2d-2e75ba81fb68",
   "metadata": {},
   "outputs": [],
   "source": [
    "n_cols_2 = X_train.shape[1]"
   ]
  },
  {
   "cell_type": "code",
   "execution_count": 21,
   "id": "7b05bb3f-ae49-44dc-923d-f5b690c1dde0",
   "metadata": {},
   "outputs": [],
   "source": [
    "model_2.add(Dense(200, activation='relu', input_shape=(n_cols_2,)))\n",
    "model_2.add(Dense(200, activation='relu'))\n",
    "model_2.add(Dense(200, activation='relu'))\n",
    "model_2.add(Dense(2, activation='softmax'))\n"
   ]
  },
  {
   "cell_type": "code",
   "execution_count": 22,
   "id": "94e4f548-3ad4-41e5-9698-9126dcca9219",
   "metadata": {},
   "outputs": [],
   "source": [
    "model_2.compile(optimizer='adam', loss='categorical_crossentropy', metrics=['accuracy'])"
   ]
  },
  {
   "cell_type": "code",
   "execution_count": 23,
   "id": "453e3a2c-7846-44d7-91f3-d92684256e18",
   "metadata": {},
   "outputs": [
    {
     "name": "stdout",
     "output_type": "stream",
     "text": [
      "Epoch 1/30\n",
      "12/12 [==============================] - 0s 11ms/step - loss: 0.8789 - accuracy: 0.7373 - val_loss: 0.5095 - val_accuracy: 0.8148\n",
      "Epoch 2/30\n",
      "12/12 [==============================] - 0s 3ms/step - loss: 0.5595 - accuracy: 0.7802 - val_loss: 0.5012 - val_accuracy: 0.8148\n",
      "Epoch 3/30\n",
      "12/12 [==============================] - 0s 3ms/step - loss: 0.5263 - accuracy: 0.8043 - val_loss: 0.4645 - val_accuracy: 0.8333\n",
      "Epoch 4/30\n",
      "12/12 [==============================] - 0s 3ms/step - loss: 0.5000 - accuracy: 0.7962 - val_loss: 0.5067 - val_accuracy: 0.7963\n",
      "Epoch 5/30\n",
      "12/12 [==============================] - 0s 3ms/step - loss: 0.4885 - accuracy: 0.8043 - val_loss: 0.4574 - val_accuracy: 0.8333\n",
      "Epoch 6/30\n",
      "12/12 [==============================] - 0s 3ms/step - loss: 0.4886 - accuracy: 0.7989 - val_loss: 0.4671 - val_accuracy: 0.8333\n",
      "Epoch 7/30\n",
      "12/12 [==============================] - 0s 3ms/step - loss: 0.4992 - accuracy: 0.8016 - val_loss: 0.4835 - val_accuracy: 0.7963\n",
      "Epoch 8/30\n",
      "12/12 [==============================] - 0s 3ms/step - loss: 0.4922 - accuracy: 0.7936 - val_loss: 0.4848 - val_accuracy: 0.7963\n"
     ]
    }
   ],
   "source": [
    "history = model_2.fit(X_train, y_train_categorical, epochs=30, validation_split=0.0, validation_data=(X_val, y_val_categorical), callbacks=[early_stopping_monitor])"
   ]
  },
  {
   "cell_type": "code",
   "execution_count": 24,
   "id": "69c84ca4-57f1-47f6-8678-71e0c967a19e",
   "metadata": {},
   "outputs": [
    {
     "name": "stdout",
     "output_type": "stream",
     "text": [
      "4/4 [==============================] - 0s 1ms/step\n",
      "[[0.8706332  0.12936682]\n",
      " [0.83062565 0.16937433]\n",
      " [0.7534689  0.2465311 ]\n",
      " [0.86995524 0.13004474]\n",
      " [0.73616445 0.26383552]]\n"
     ]
    }
   ],
   "source": [
    "predictions = model_2.predict(X_test)\n",
    "print(predictions[:5])"
   ]
  },
  {
   "cell_type": "code",
   "execution_count": 25,
   "id": "9d810146-b521-4b26-9b22-4d368f241a1e",
   "metadata": {},
   "outputs": [
    {
     "data": {
      "text/plain": [
       "<AxesSubplot:title={'center':'loss plot with adam'}>"
      ]
     },
     "execution_count": 25,
     "metadata": {},
     "output_type": "execute_result"
    },
    {
     "data": {
      "image/png": "[encoded data removed]",
      "text/plain": [
       "<Figure size 640x480 with 1 Axes>"
      ]
     },
     "metadata": {},
     "output_type": "display_data"
    }
   ],
   "source": [
    "model_dataframe = pd.DataFrame(history.history)\n",
    "model_dataframe['loss'].plot(title='loss plot with adam')\n"
   ]
  },
  {
   "cell_type": "code",
   "execution_count": 26,
   "id": "b2605ecf-5281-40b2-be9d-72eadb067245",
   "metadata": {},
   "outputs": [],
   "source": [
    "model_2.compile(optimizer='adadelta', loss='categorical_crossentropy', metrics=['accuracy'])"
   ]
  },
  {
   "cell_type": "code",
   "execution_count": 27,
   "id": "8bc34613-d666-4073-8e1b-0fcd5e12d8c6",
   "metadata": {},
   "outputs": [
    {
     "name": "stdout",
     "output_type": "stream",
     "text": [
      "Epoch 1/30\n",
      "2/2 [==============================] - 0s 106ms/step - loss: 0.4730 - accuracy: 0.8070 - val_loss: 0.4842 - val_accuracy: 0.7963\n",
      "Epoch 2/30\n",
      "2/2 [==============================] - 0s 21ms/step - loss: 0.4727 - accuracy: 0.8043 - val_loss: 0.4837 - val_accuracy: 0.7963\n",
      "Epoch 3/30\n",
      "2/2 [==============================] - 0s 20ms/step - loss: 0.4724 - accuracy: 0.8043 - val_loss: 0.4833 - val_accuracy: 0.7963\n",
      "Epoch 4/30\n",
      "2/2 [==============================] - 0s 20ms/step - loss: 0.4721 - accuracy: 0.8043 - val_loss: 0.4829 - val_accuracy: 0.7963\n",
      "Epoch 5/30\n",
      "2/2 [==============================] - 0s 21ms/step - loss: 0.4718 - accuracy: 0.8043 - val_loss: 0.4824 - val_accuracy: 0.7963\n",
      "Epoch 6/30\n",
      "2/2 [==============================] - 0s 19ms/step - loss: 0.4716 - accuracy: 0.8043 - val_loss: 0.4820 - val_accuracy: 0.7963\n",
      "Epoch 7/30\n",
      "2/2 [==============================] - 0s 20ms/step - loss: 0.4714 - accuracy: 0.8043 - val_loss: 0.4816 - val_accuracy: 0.7963\n",
      "Epoch 8/30\n",
      "2/2 [==============================] - 0s 20ms/step - loss: 0.4711 - accuracy: 0.8043 - val_loss: 0.4812 - val_accuracy: 0.7963\n",
      "Epoch 9/30\n",
      "2/2 [==============================] - 0s 20ms/step - loss: 0.4709 - accuracy: 0.8043 - val_loss: 0.4808 - val_accuracy: 0.7963\n",
      "Epoch 10/30\n",
      "2/2 [==============================] - 0s 20ms/step - loss: 0.4707 - accuracy: 0.8043 - val_loss: 0.4805 - val_accuracy: 0.7963\n",
      "Epoch 11/30\n",
      "2/2 [==============================] - 0s 20ms/step - loss: 0.4705 - accuracy: 0.8043 - val_loss: 0.4801 - val_accuracy: 0.7963\n",
      "Epoch 12/30\n",
      "2/2 [==============================] - 0s 20ms/step - loss: 0.4703 - accuracy: 0.8043 - val_loss: 0.4797 - val_accuracy: 0.7963\n",
      "Epoch 13/30\n",
      "2/2 [==============================] - 0s 21ms/step - loss: 0.4701 - accuracy: 0.8043 - val_loss: 0.4793 - val_accuracy: 0.7963\n",
      "Epoch 14/30\n",
      "2/2 [==============================] - 0s 20ms/step - loss: 0.4701 - accuracy: 0.8043 - val_loss: 0.4793 - val_accuracy: 0.7963\n",
      "Epoch 15/30\n",
      "2/2 [==============================] - 0s 20ms/step - loss: 0.4699 - accuracy: 0.8043 - val_loss: 0.4790 - val_accuracy: 0.7963\n",
      "Epoch 16/30\n",
      "2/2 [==============================] - 0s 19ms/step - loss: 0.4698 - accuracy: 0.8043 - val_loss: 0.4790 - val_accuracy: 0.7963\n",
      "Epoch 17/30\n",
      "2/2 [==============================] - 0s 20ms/step - loss: 0.4697 - accuracy: 0.8043 - val_loss: 0.4787 - val_accuracy: 0.7963\n",
      "Epoch 18/30\n",
      "2/2 [==============================] - 0s 21ms/step - loss: 0.4696 - accuracy: 0.8043 - val_loss: 0.4785 - val_accuracy: 0.7963\n",
      "Epoch 19/30\n",
      "2/2 [==============================] - 0s 19ms/step - loss: 0.4695 - accuracy: 0.8043 - val_loss: 0.4783 - val_accuracy: 0.7963\n",
      "Epoch 20/30\n",
      "2/2 [==============================] - 0s 19ms/step - loss: 0.4694 - accuracy: 0.8016 - val_loss: 0.4780 - val_accuracy: 0.7963\n",
      "Epoch 21/30\n",
      "2/2 [==============================] - 0s 19ms/step - loss: 0.4692 - accuracy: 0.8016 - val_loss: 0.4778 - val_accuracy: 0.7963\n",
      "Epoch 22/30\n",
      "2/2 [==============================] - 0s 19ms/step - loss: 0.4691 - accuracy: 0.8016 - val_loss: 0.4776 - val_accuracy: 0.7963\n",
      "Epoch 23/30\n",
      "2/2 [==============================] - 0s 20ms/step - loss: 0.4691 - accuracy: 0.8016 - val_loss: 0.4775 - val_accuracy: 0.7963\n",
      "Epoch 24/30\n",
      "2/2 [==============================] - 0s 20ms/step - loss: 0.4690 - accuracy: 0.8016 - val_loss: 0.4774 - val_accuracy: 0.7963\n",
      "Epoch 25/30\n",
      "2/2 [==============================] - 0s 21ms/step - loss: 0.4689 - accuracy: 0.8016 - val_loss: 0.4771 - val_accuracy: 0.7963\n",
      "Epoch 26/30\n",
      "2/2 [==============================] - 0s 20ms/step - loss: 0.4688 - accuracy: 0.8016 - val_loss: 0.4768 - val_accuracy: 0.7963\n",
      "Epoch 27/30\n",
      "2/2 [==============================] - 0s 20ms/step - loss: 0.4687 - accuracy: 0.8016 - val_loss: 0.4766 - val_accuracy: 0.7963\n",
      "Epoch 28/30\n",
      "2/2 [==============================] - 0s 19ms/step - loss: 0.4686 - accuracy: 0.8016 - val_loss: 0.4764 - val_accuracy: 0.7963\n",
      "Epoch 29/30\n",
      "2/2 [==============================] - 0s 20ms/step - loss: 0.4686 - accuracy: 0.8016 - val_loss: 0.4763 - val_accuracy: 0.7963\n",
      "Epoch 30/30\n",
      "2/2 [==============================] - 0s 21ms/step - loss: 0.4685 - accuracy: 0.8016 - val_loss: 0.4760 - val_accuracy: 0.7963\n"
     ]
    }
   ],
   "source": [
    "history = model_2.fit(X_train, y_train_categorical, epochs=30,batch_size=256, validation_split=0.0, validation_data=(X_val, y_val_categorical), callbacks=[early_stopping_monitor])"
   ]
  },
  {
   "cell_type": "code",
   "execution_count": 28,
   "id": "0188b7ca-480f-4f1a-a25d-08d0afa4b535",
   "metadata": {},
   "outputs": [
    {
     "name": "stdout",
     "output_type": "stream",
     "text": [
      "4/4 [==============================] - 0s 1ms/step\n",
      "[[0.8819622  0.11803782]\n",
      " [0.85510695 0.14489307]\n",
      " [0.77197695 0.22802305]\n",
      " [0.87927336 0.1207267 ]\n",
      " [0.7654953  0.23450476]]\n"
     ]
    }
   ],
   "source": [
    "predictions = model_2.predict(X_test)\n",
    "print(predictions[:5])"
   ]
  },
  {
   "cell_type": "code",
   "execution_count": 29,
   "id": "fa941ba2-c9f3-4dc5-89ca-4692ef390645",
   "metadata": {},
   "outputs": [],
   "source": [
    "# Comparing Adam and Adadelta we see that adadelta predicts more accurate due to stepsize"
   ]
  },
  {
   "cell_type": "code",
   "execution_count": 30,
   "id": "3d29433b-9ed1-479a-a0da-d2a4427d3d00",
   "metadata": {},
   "outputs": [
    {
     "data": {
      "text/plain": [
       "<AxesSubplot:title={'center':'loss plot with adadelta'}>"
      ]
     },
     "execution_count": 30,
     "metadata": {},
     "output_type": "execute_result"
    },
    {
     "data": {
      "image/png": "[encoded data removed]",
      "text/plain": [
       "<Figure size 640x480 with 1 Axes>"
      ]
     },
     "metadata": {},
     "output_type": "display_data"
    }
   ],
   "source": [
    "model_dataframe = pd.DataFrame(history.history)\n",
    "model_dataframe['loss'].plot(title='loss plot with adadelta')\n"
   ]
  },
  {
   "cell_type": "markdown",
   "id": "40d32e08-f08f-4c89-8e19-50cb2de534a4",
   "metadata": {},
   "source": [
    "## Task 3\n",
    "Predict ABV (alcohol by volume) of beer"
   ]
  },
  {
   "cell_type": "code",
   "execution_count": 31,
   "id": "f5197b5e-c102-4cec-ba7b-f44a09c793fa",
   "metadata": {},
   "outputs": [],
   "source": [
    "from sklearn.preprocessing import OrdinalEncoder\n",
    "from sklearn.impute import SimpleImputer"
   ]
  },
  {
   "cell_type": "code",
   "execution_count": 32,
   "id": "d08089bf-e153-4ad4-ba50-bb828c8762f8",
   "metadata": {},
   "outputs": [
    {
     "data": {
      "text/html": [
       "<div>\n",
       "<style scoped>\n",
       "    .dataframe tbody tr th:only-of-type {\n",
       "        vertical-align: middle;\n",
       "    }\n",
       "\n",
       "    .dataframe tbody tr th {\n",
       "        vertical-align: top;\n",
       "    }\n",
       "\n",
       "    .dataframe thead th {\n",
       "        text-align: right;\n",
       "    }\n",
       "</style>\n",
       "<table border=\"1\" class=\"dataframe\">\n",
       "  <thead>\n",
       "    <tr style=\"text-align: right;\">\n",
       "      <th></th>\n",
       "      <th>Unnamed: 0</th>\n",
       "      <th>count.x</th>\n",
       "      <th>abv</th>\n",
       "      <th>ibu</th>\n",
       "      <th>id</th>\n",
       "      <th>beer</th>\n",
       "      <th>style</th>\n",
       "      <th>brewery_id</th>\n",
       "      <th>ounces</th>\n",
       "      <th>style2</th>\n",
       "      <th>count.y</th>\n",
       "      <th>brewery</th>\n",
       "      <th>city</th>\n",
       "      <th>state</th>\n",
       "      <th>label</th>\n",
       "    </tr>\n",
       "  </thead>\n",
       "  <tbody>\n",
       "    <tr>\n",
       "      <th>0</th>\n",
       "      <td>1</td>\n",
       "      <td>1</td>\n",
       "      <td>0.050</td>\n",
       "      <td>NaN</td>\n",
       "      <td>1436</td>\n",
       "      <td>Pub Beer</td>\n",
       "      <td>American Pale Lager</td>\n",
       "      <td>408</td>\n",
       "      <td>12.0</td>\n",
       "      <td>NaN</td>\n",
       "      <td>409</td>\n",
       "      <td>10 Barrel Brewing Company</td>\n",
       "      <td>Bend</td>\n",
       "      <td>OR</td>\n",
       "      <td>Pub Beer (10 Barrel Brewing Company)</td>\n",
       "    </tr>\n",
       "    <tr>\n",
       "      <th>1</th>\n",
       "      <td>2</td>\n",
       "      <td>2</td>\n",
       "      <td>0.066</td>\n",
       "      <td>NaN</td>\n",
       "      <td>2265</td>\n",
       "      <td>Devil's Cup</td>\n",
       "      <td>American Pale Ale (APA)</td>\n",
       "      <td>177</td>\n",
       "      <td>12.0</td>\n",
       "      <td>American Pale Ale (APA)</td>\n",
       "      <td>178</td>\n",
       "      <td>18th Street Brewery</td>\n",
       "      <td>Gary</td>\n",
       "      <td>IN</td>\n",
       "      <td>Devil's Cup (18th Street Brewery)</td>\n",
       "    </tr>\n",
       "    <tr>\n",
       "      <th>2</th>\n",
       "      <td>3</td>\n",
       "      <td>3</td>\n",
       "      <td>0.071</td>\n",
       "      <td>NaN</td>\n",
       "      <td>2264</td>\n",
       "      <td>Rise of the Phoenix</td>\n",
       "      <td>American IPA</td>\n",
       "      <td>177</td>\n",
       "      <td>12.0</td>\n",
       "      <td>American IPA</td>\n",
       "      <td>178</td>\n",
       "      <td>18th Street Brewery</td>\n",
       "      <td>Gary</td>\n",
       "      <td>IN</td>\n",
       "      <td>Rise of the Phoenix (18th Street Brewery)</td>\n",
       "    </tr>\n",
       "    <tr>\n",
       "      <th>3</th>\n",
       "      <td>4</td>\n",
       "      <td>4</td>\n",
       "      <td>0.090</td>\n",
       "      <td>NaN</td>\n",
       "      <td>2263</td>\n",
       "      <td>Sinister</td>\n",
       "      <td>American Double / Imperial IPA</td>\n",
       "      <td>177</td>\n",
       "      <td>12.0</td>\n",
       "      <td>American Double / Imperial IPA</td>\n",
       "      <td>178</td>\n",
       "      <td>18th Street Brewery</td>\n",
       "      <td>Gary</td>\n",
       "      <td>IN</td>\n",
       "      <td>Sinister (18th Street Brewery)</td>\n",
       "    </tr>\n",
       "    <tr>\n",
       "      <th>4</th>\n",
       "      <td>5</td>\n",
       "      <td>5</td>\n",
       "      <td>0.075</td>\n",
       "      <td>NaN</td>\n",
       "      <td>2262</td>\n",
       "      <td>Sex and Candy</td>\n",
       "      <td>American IPA</td>\n",
       "      <td>177</td>\n",
       "      <td>12.0</td>\n",
       "      <td>American IPA</td>\n",
       "      <td>178</td>\n",
       "      <td>18th Street Brewery</td>\n",
       "      <td>Gary</td>\n",
       "      <td>IN</td>\n",
       "      <td>Sex and Candy (18th Street Brewery)</td>\n",
       "    </tr>\n",
       "  </tbody>\n",
       "</table>\n",
       "</div>"
      ],
      "text/plain": [
       "   Unnamed: 0  count.x    abv  ibu    id                 beer  \\\n",
       "0           1        1  0.050  NaN  1436             Pub Beer   \n",
       "1           2        2  0.066  NaN  2265          Devil's Cup   \n",
       "2           3        3  0.071  NaN  2264  Rise of the Phoenix   \n",
       "3           4        4  0.090  NaN  2263             Sinister   \n",
       "4           5        5  0.075  NaN  2262        Sex and Candy   \n",
       "\n",
       "                            style  brewery_id  ounces  \\\n",
       "0             American Pale Lager         408    12.0   \n",
       "1         American Pale Ale (APA)         177    12.0   \n",
       "2                    American IPA         177    12.0   \n",
       "3  American Double / Imperial IPA         177    12.0   \n",
       "4                    American IPA         177    12.0   \n",
       "\n",
       "                           style2  count.y                    brewery  city  \\\n",
       "0                             NaN      409  10 Barrel Brewing Company  Bend   \n",
       "1         American Pale Ale (APA)      178        18th Street Brewery  Gary   \n",
       "2                    American IPA      178        18th Street Brewery  Gary   \n",
       "3  American Double / Imperial IPA      178        18th Street Brewery  Gary   \n",
       "4                    American IPA      178        18th Street Brewery  Gary   \n",
       "\n",
       "  state                                      label  \n",
       "0    OR       Pub Beer (10 Barrel Brewing Company)  \n",
       "1    IN          Devil's Cup (18th Street Brewery)  \n",
       "2    IN  Rise of the Phoenix (18th Street Brewery)  \n",
       "3    IN             Sinister (18th Street Brewery)  \n",
       "4    IN        Sex and Candy (18th Street Brewery)  "
      ]
     },
     "execution_count": 32,
     "metadata": {},
     "output_type": "execute_result"
    }
   ],
   "source": [
    "X_raw = pd.read_csv('./beers.csv')\n",
    "X_raw.head()"
   ]
  },
  {
   "cell_type": "code",
   "execution_count": 33,
   "id": "1194381d-c347-406f-8e15-78043d72c8ef",
   "metadata": {},
   "outputs": [
    {
     "data": {
      "text/html": [
       "<div>\n",
       "<style scoped>\n",
       "    .dataframe tbody tr th:only-of-type {\n",
       "        vertical-align: middle;\n",
       "    }\n",
       "\n",
       "    .dataframe tbody tr th {\n",
       "        vertical-align: top;\n",
       "    }\n",
       "\n",
       "    .dataframe thead th {\n",
       "        text-align: right;\n",
       "    }\n",
       "</style>\n",
       "<table border=\"1\" class=\"dataframe\">\n",
       "  <thead>\n",
       "    <tr style=\"text-align: right;\">\n",
       "      <th></th>\n",
       "      <th>beer</th>\n",
       "      <th>style</th>\n",
       "      <th>brewery_id</th>\n",
       "      <th>style2</th>\n",
       "      <th>brewery</th>\n",
       "      <th>city</th>\n",
       "      <th>state</th>\n",
       "      <th>label</th>\n",
       "    </tr>\n",
       "  </thead>\n",
       "  <tbody>\n",
       "    <tr>\n",
       "      <th>0</th>\n",
       "      <td>Pub Beer</td>\n",
       "      <td>American Pale Lager</td>\n",
       "      <td>408</td>\n",
       "      <td>NaN</td>\n",
       "      <td>10 Barrel Brewing Company</td>\n",
       "      <td>Bend</td>\n",
       "      <td>OR</td>\n",
       "      <td>Pub Beer (10 Barrel Brewing Company)</td>\n",
       "    </tr>\n",
       "    <tr>\n",
       "      <th>1</th>\n",
       "      <td>Devil's Cup</td>\n",
       "      <td>American Pale Ale (APA)</td>\n",
       "      <td>177</td>\n",
       "      <td>American Pale Ale (APA)</td>\n",
       "      <td>18th Street Brewery</td>\n",
       "      <td>Gary</td>\n",
       "      <td>IN</td>\n",
       "      <td>Devil's Cup (18th Street Brewery)</td>\n",
       "    </tr>\n",
       "    <tr>\n",
       "      <th>2</th>\n",
       "      <td>Rise of the Phoenix</td>\n",
       "      <td>American IPA</td>\n",
       "      <td>177</td>\n",
       "      <td>American IPA</td>\n",
       "      <td>18th Street Brewery</td>\n",
       "      <td>Gary</td>\n",
       "      <td>IN</td>\n",
       "      <td>Rise of the Phoenix (18th Street Brewery)</td>\n",
       "    </tr>\n",
       "    <tr>\n",
       "      <th>3</th>\n",
       "      <td>Sinister</td>\n",
       "      <td>American Double / Imperial IPA</td>\n",
       "      <td>177</td>\n",
       "      <td>American Double / Imperial IPA</td>\n",
       "      <td>18th Street Brewery</td>\n",
       "      <td>Gary</td>\n",
       "      <td>IN</td>\n",
       "      <td>Sinister (18th Street Brewery)</td>\n",
       "    </tr>\n",
       "    <tr>\n",
       "      <th>4</th>\n",
       "      <td>Sex and Candy</td>\n",
       "      <td>American IPA</td>\n",
       "      <td>177</td>\n",
       "      <td>American IPA</td>\n",
       "      <td>18th Street Brewery</td>\n",
       "      <td>Gary</td>\n",
       "      <td>IN</td>\n",
       "      <td>Sex and Candy (18th Street Brewery)</td>\n",
       "    </tr>\n",
       "  </tbody>\n",
       "</table>\n",
       "</div>"
      ],
      "text/plain": [
       "                  beer                           style  brewery_id  \\\n",
       "0             Pub Beer             American Pale Lager         408   \n",
       "1          Devil's Cup         American Pale Ale (APA)         177   \n",
       "2  Rise of the Phoenix                    American IPA         177   \n",
       "3             Sinister  American Double / Imperial IPA         177   \n",
       "4        Sex and Candy                    American IPA         177   \n",
       "\n",
       "                           style2                    brewery  city state  \\\n",
       "0                             NaN  10 Barrel Brewing Company  Bend    OR   \n",
       "1         American Pale Ale (APA)        18th Street Brewery  Gary    IN   \n",
       "2                    American IPA        18th Street Brewery  Gary    IN   \n",
       "3  American Double / Imperial IPA        18th Street Brewery  Gary    IN   \n",
       "4                    American IPA        18th Street Brewery  Gary    IN   \n",
       "\n",
       "                                       label  \n",
       "0       Pub Beer (10 Barrel Brewing Company)  \n",
       "1          Devil's Cup (18th Street Brewery)  \n",
       "2  Rise of the Phoenix (18th Street Brewery)  \n",
       "3             Sinister (18th Street Brewery)  \n",
       "4        Sex and Candy (18th Street Brewery)  "
      ]
     },
     "execution_count": 33,
     "metadata": {},
     "output_type": "execute_result"
    }
   ],
   "source": [
    "X_drop_garbage = X_raw.drop(columns=[X_raw.columns[0], X_raw.columns[1]], axis=1)\n",
    "X = X_drop_garbage.drop(columns=['abv','ibu','id','ounces','count.y'])\n",
    "y = X_raw['abv']\n",
    "X.head()"
   ]
  },
  {
   "cell_type": "code",
   "execution_count": 34,
   "id": "49a7087f-cf48-4b0a-83e4-3ee2f46acc63",
   "metadata": {},
   "outputs": [],
   "source": [
    "n_cols = X.shape[1]\n",
    "model_3 = Sequential([\n",
    "    Dense(200, activation='relu', input_shape=(n_cols, )),\n",
    "    Dense(200, activation='relu'),\n",
    "    Dense(200, activation='relu'),\n",
    "    Dense(1)\n",
    "])"
   ]
  },
  {
   "cell_type": "code",
   "execution_count": 35,
   "id": "9b8771b4-19b4-4e16-9ec6-e53bbec6a001",
   "metadata": {},
   "outputs": [],
   "source": [
    "model_3.compile(optimizer='adam',  loss='categorical_crossentropy', metrics=['accuracy'])"
   ]
  },
  {
   "cell_type": "code",
   "execution_count": 36,
   "id": "5d524773-b098-46f3-94b4-0bd7405df4a2",
   "metadata": {},
   "outputs": [
    {
     "name": "stdout",
     "output_type": "stream",
     "text": [
      "Epoch 1/30\n",
      "49/49 [==============================] - 0s 3ms/step - loss: nan - accuracy: 0.0000e+00 - val_loss: nan - val_accuracy: 0.0000e+00\n",
      "Epoch 2/30\n",
      "49/49 [==============================] - 0s 2ms/step - loss: nan - accuracy: 0.0000e+00 - val_loss: nan - val_accuracy: 0.0000e+00\n",
      "Epoch 3/30\n",
      "49/49 [==============================] - 0s 2ms/step - loss: nan - accuracy: 0.0000e+00 - val_loss: nan - val_accuracy: 0.0000e+00\n"
     ]
    }
   ],
   "source": [
    "train_X, test_X, train_y, test_y = train_test_split(X, y, test_size=0.2, random_state=1)\n",
    "my_encoder = OrdinalEncoder()\n",
    "my_imputer = SimpleImputer(strategy='mean')\n",
    "\n",
    "train_X = pd.DataFrame(my_imputer.fit_transform(my_encoder.fit_transform(train_X)))\n",
    "test_X = pd.DataFrame(my_imputer.fit_transform(my_encoder.fit_transform(test_X)))\n",
    "\n",
    "history_3 = model_3.fit(train_X,\n",
    "            train_y,\n",
    "            validation_split=0.2,\n",
    "            epochs=30, \n",
    "            callbacks=[early_stopping_monitor])"
   ]
  },
  {
   "cell_type": "code",
   "execution_count": 37,
   "id": "e0442fa1-f4e6-4f54-83b6-f36d7ccbcdc7",
   "metadata": {},
   "outputs": [
    {
     "data": {
      "text/html": [
       "<div>\n",
       "<style scoped>\n",
       "    .dataframe tbody tr th:only-of-type {\n",
       "        vertical-align: middle;\n",
       "    }\n",
       "\n",
       "    .dataframe tbody tr th {\n",
       "        vertical-align: top;\n",
       "    }\n",
       "\n",
       "    .dataframe thead th {\n",
       "        text-align: right;\n",
       "    }\n",
       "</style>\n",
       "<table border=\"1\" class=\"dataframe\">\n",
       "  <thead>\n",
       "    <tr style=\"text-align: right;\">\n",
       "      <th></th>\n",
       "      <th>0</th>\n",
       "      <th>1</th>\n",
       "      <th>2</th>\n",
       "      <th>3</th>\n",
       "      <th>4</th>\n",
       "      <th>5</th>\n",
       "      <th>6</th>\n",
       "      <th>7</th>\n",
       "    </tr>\n",
       "  </thead>\n",
       "  <tbody>\n",
       "    <tr>\n",
       "      <th>0</th>\n",
       "      <td>1370.0</td>\n",
       "      <td>16.0</td>\n",
       "      <td>350.0</td>\n",
       "      <td>4.000000</td>\n",
       "      <td>166.0</td>\n",
       "      <td>53.0</td>\n",
       "      <td>5.0</td>\n",
       "      <td>1382.0</td>\n",
       "    </tr>\n",
       "    <tr>\n",
       "      <th>1</th>\n",
       "      <td>79.0</td>\n",
       "      <td>59.0</td>\n",
       "      <td>234.0</td>\n",
       "      <td>2.773196</td>\n",
       "      <td>122.0</td>\n",
       "      <td>8.0</td>\n",
       "      <td>15.0</td>\n",
       "      <td>79.0</td>\n",
       "    </tr>\n",
       "    <tr>\n",
       "      <th>2</th>\n",
       "      <td>312.0</td>\n",
       "      <td>37.0</td>\n",
       "      <td>238.0</td>\n",
       "      <td>2.773196</td>\n",
       "      <td>300.0</td>\n",
       "      <td>305.0</td>\n",
       "      <td>22.0</td>\n",
       "      <td>313.0</td>\n",
       "    </tr>\n",
       "    <tr>\n",
       "      <th>3</th>\n",
       "      <td>1332.0</td>\n",
       "      <td>20.0</td>\n",
       "      <td>262.0</td>\n",
       "      <td>2.773196</td>\n",
       "      <td>187.0</td>\n",
       "      <td>256.0</td>\n",
       "      <td>39.0</td>\n",
       "      <td>1344.0</td>\n",
       "    </tr>\n",
       "    <tr>\n",
       "      <th>4</th>\n",
       "      <td>586.0</td>\n",
       "      <td>13.0</td>\n",
       "      <td>101.0</td>\n",
       "      <td>3.000000</td>\n",
       "      <td>79.0</td>\n",
       "      <td>100.0</td>\n",
       "      <td>5.0</td>\n",
       "      <td>592.0</td>\n",
       "    </tr>\n",
       "  </tbody>\n",
       "</table>\n",
       "</div>"
      ],
      "text/plain": [
       "        0     1      2         3      4      5     6       7\n",
       "0  1370.0  16.0  350.0  4.000000  166.0   53.0   5.0  1382.0\n",
       "1    79.0  59.0  234.0  2.773196  122.0    8.0  15.0    79.0\n",
       "2   312.0  37.0  238.0  2.773196  300.0  305.0  22.0   313.0\n",
       "3  1332.0  20.0  262.0  2.773196  187.0  256.0  39.0  1344.0\n",
       "4   586.0  13.0  101.0  3.000000   79.0  100.0   5.0   592.0"
      ]
     },
     "execution_count": 37,
     "metadata": {},
     "output_type": "execute_result"
    }
   ],
   "source": [
    "train_X.head()"
   ]
  },
  {
   "cell_type": "code",
   "execution_count": 38,
   "id": "d57ed796-f5ec-480b-a691-a95178dc06ed",
   "metadata": {},
   "outputs": [
    {
     "name": "stdout",
     "output_type": "stream",
     "text": [
      "16/16 [==============================] - 0s 793us/step\n",
      "[[-13.065502 ]\n",
      " [ -3.4492836]\n",
      " [-15.3980465]\n",
      " [ -2.7493706]\n",
      " [ -8.767487 ]]\n"
     ]
    }
   ],
   "source": [
    "predictions = model_3.predict(test_X)\n",
    "print(predictions[:5])"
   ]
  },
  {
   "cell_type": "code",
   "execution_count": 39,
   "id": "dfb4ff31-015f-439f-b62e-9043f9e0b46d",
   "metadata": {},
   "outputs": [
    {
     "data": {
      "text/plain": [
       "<AxesSubplot:title={'center':'loss plot'}>"
      ]
     },
     "execution_count": 39,
     "metadata": {},
     "output_type": "execute_result"
    },
    {
     "data": {
      "image/png": "[encoded data removed]",
      "text/plain": [
       "<Figure size 640x480 with 1 Axes>"
      ]
     },
     "metadata": {},
     "output_type": "display_data"
    }
   ],
   "source": [
    "model_dataframe = pd.DataFrame(history.history)\n",
    "model_dataframe.loc[:, ['loss', 'val_loss']].plot(title='loss plot')"
   ]
  },
  {
   "cell_type": "raw",
   "id": "c062dd55-ce29-4973-a78a-fe915b5f4ae6",
   "metadata": {},
   "source": [
    "#### "
   ]
  }
 ],
 "metadata": {
  "kernelspec": {
   "display_name": "Python 3 (ipykernel)",
   "language": "python",
   "name": "python3"
  },
  "language_info": {
   "codemirror_mode": {
    "name": "ipython",
    "version": 3
   },
   "file_extension": ".py",
   "mimetype": "text/x-python",
   "name": "python",
   "nbconvert_exporter": "python",
   "pygments_lexer": "ipython3",
   "version": "3.10.6"
  }
 },
 "nbformat": 4,
 "nbformat_minor": 5
}
