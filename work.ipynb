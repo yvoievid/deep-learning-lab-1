{
 "cells": [
  {
   "cell_type": "markdown",
   "id": "9847470e-089c-46ea-a448-77db89a7b40f",
   "metadata": {},
   "source": [
    "# Lab 1\n",
    "`By Yurii Voievidka`"
   ]
  },
  {
   "cell_type": "markdown",
   "id": "16460c71-9058-4aa0-908a-fe993804b53e",
   "metadata": {},
   "source": [
    "## Task 1"
   ]
  },
  {
   "cell_type": "code",
   "execution_count": 1,
   "id": "35b60b70-b852-4f6f-a6ae-9ed31470628d",
   "metadata": {},
   "outputs": [],
   "source": [
    "import pandas as pd"
   ]
  },
  {
   "cell_type": "code",
   "execution_count": 2,
   "id": "1b13237b-b76e-4867-9089-49415c99bbfb",
   "metadata": {},
   "outputs": [],
   "source": [
    "train_raw = pd.read_csv('hourly_wages_data.csv')\n",
    "X = train_raw.drop(columns=['wage_per_hour'])\n",
    "y = train_raw['wage_per_hour']"
   ]
  },
  {
   "cell_type": "code",
   "execution_count": 3,
   "id": "c117959e-58b7-498f-8633-62316bc18f4b",
   "metadata": {},
   "outputs": [],
   "source": [
    "from sklearn.model_selection import train_test_split\n",
    "\n",
    "X_train, X_test, y_train, y_test = train_test_split(X, y, test_size=0.3, random_state=1)\n",
    "X_test, X_val, y_test, y_val = train_test_split(X_test, y_test, test_size=0.33, random_state=1) ## 0.33 * 0.3 = 0.1 for test\n"
   ]
  },
  {
   "cell_type": "code",
   "execution_count": 4,
   "id": "923a98f5-6d48-4c2d-9685-88c8a6b3fc70",
   "metadata": {},
   "outputs": [],
   "source": [
    "## Scaling and Normalization\n",
    "from scipy import stats\n",
    "\n",
    "# for min_max scaling\n",
    "from mlxtend.preprocessing import minmax_scaling\n",
    "\n",
    "# plotting modules\n",
    "import seaborn as sns\n",
    "import matplotlib.pyplot as plt\n",
    "import numpy as np"
   ]
  },
  {
   "cell_type": "code",
   "execution_count": 5,
   "id": "a760fb0d-4f60-4026-a660-f429f7ff5c19",
   "metadata": {},
   "outputs": [
    {
     "data": {
      "text/html": [
       "<div>\n",
       "<style scoped>\n",
       "    .dataframe tbody tr th:only-of-type {\n",
       "        vertical-align: middle;\n",
       "    }\n",
       "\n",
       "    .dataframe tbody tr th {\n",
       "        vertical-align: top;\n",
       "    }\n",
       "\n",
       "    .dataframe thead th {\n",
       "        text-align: right;\n",
       "    }\n",
       "</style>\n",
       "<table border=\"1\" class=\"dataframe\">\n",
       "  <thead>\n",
       "    <tr style=\"text-align: right;\">\n",
       "      <th></th>\n",
       "      <th>union</th>\n",
       "      <th>education_yrs</th>\n",
       "      <th>experience_yrs</th>\n",
       "      <th>age</th>\n",
       "      <th>female</th>\n",
       "      <th>marr</th>\n",
       "      <th>south</th>\n",
       "      <th>manufacturing</th>\n",
       "      <th>construction</th>\n",
       "    </tr>\n",
       "  </thead>\n",
       "  <tbody>\n",
       "    <tr>\n",
       "      <th>106</th>\n",
       "      <td>1</td>\n",
       "      <td>14</td>\n",
       "      <td>21</td>\n",
       "      <td>41</td>\n",
       "      <td>0</td>\n",
       "      <td>1</td>\n",
       "      <td>0</td>\n",
       "      <td>0</td>\n",
       "      <td>0</td>\n",
       "    </tr>\n",
       "    <tr>\n",
       "      <th>189</th>\n",
       "      <td>0</td>\n",
       "      <td>18</td>\n",
       "      <td>14</td>\n",
       "      <td>38</td>\n",
       "      <td>1</td>\n",
       "      <td>1</td>\n",
       "      <td>0</td>\n",
       "      <td>0</td>\n",
       "      <td>0</td>\n",
       "    </tr>\n",
       "    <tr>\n",
       "      <th>504</th>\n",
       "      <td>0</td>\n",
       "      <td>17</td>\n",
       "      <td>10</td>\n",
       "      <td>33</td>\n",
       "      <td>1</td>\n",
       "      <td>0</td>\n",
       "      <td>0</td>\n",
       "      <td>0</td>\n",
       "      <td>0</td>\n",
       "    </tr>\n",
       "    <tr>\n",
       "      <th>477</th>\n",
       "      <td>0</td>\n",
       "      <td>18</td>\n",
       "      <td>27</td>\n",
       "      <td>51</td>\n",
       "      <td>0</td>\n",
       "      <td>1</td>\n",
       "      <td>0</td>\n",
       "      <td>0</td>\n",
       "      <td>0</td>\n",
       "    </tr>\n",
       "    <tr>\n",
       "      <th>350</th>\n",
       "      <td>0</td>\n",
       "      <td>2</td>\n",
       "      <td>16</td>\n",
       "      <td>24</td>\n",
       "      <td>0</td>\n",
       "      <td>0</td>\n",
       "      <td>0</td>\n",
       "      <td>0</td>\n",
       "      <td>0</td>\n",
       "    </tr>\n",
       "  </tbody>\n",
       "</table>\n",
       "</div>"
      ],
      "text/plain": [
       "     union  education_yrs  experience_yrs  age  female  marr  south  \\\n",
       "106      1             14              21   41       0     1      0   \n",
       "189      0             18              14   38       1     1      0   \n",
       "504      0             17              10   33       1     0      0   \n",
       "477      0             18              27   51       0     1      0   \n",
       "350      0              2              16   24       0     0      0   \n",
       "\n",
       "     manufacturing  construction  \n",
       "106              0             0  \n",
       "189              0             0  \n",
       "504              0             0  \n",
       "477              0             0  \n",
       "350              0             0  "
      ]
     },
     "execution_count": 5,
     "metadata": {},
     "output_type": "execute_result"
    }
   ],
   "source": [
    "X_train.head()"
   ]
  },
  {
   "cell_type": "code",
   "execution_count": 6,
   "id": "cc012123-1a4d-4d3d-93ca-24154f55a69f",
   "metadata": {},
   "outputs": [],
   "source": [
    "## Scaling\n",
    "\n",
    "# scaled_X = minmax_scaling(y_train, columns=['wage_per_hour'])\n",
    "# ax = sns.histplot(scaled_X, kde=True)\n",
    "# ax.set_title('Scaled wages')\n",
    "# ax.show()\n"
   ]
  },
  {
   "cell_type": "code",
   "execution_count": 7,
   "id": "1fee711e-e30c-4fb7-bbe7-5850e6e79308",
   "metadata": {},
   "outputs": [
    {
     "name": "stderr",
     "output_type": "stream",
     "text": [
      "2022-10-20 13:06:02.032493: I tensorflow/core/platform/cpu_feature_guard.cc:193] This TensorFlow binary is optimized with oneAPI Deep Neural Network Library (oneDNN) to use the following CPU instructions in performance-critical operations:  SSE4.1 SSE4.2\n",
      "To enable them in other operations, rebuild TensorFlow with the appropriate compiler flags.\n"
     ]
    }
   ],
   "source": [
    "from keras.models import Sequential\n",
    "from keras.layers import Dense\n",
    "from keras.callbacks import EarlyStopping\n",
    "early_stopping_monitor = EarlyStopping(patience=3)\n",
    "\n",
    "n_cols = X_train.shape[1]\n",
    "\n",
    "model = Sequential([\n",
    "    Dense(200, activation='relu', input_shape=(n_cols, )),\n",
    "    Dense(200, activation='relu'),\n",
    "    Dense(200, activation='relu'),\n",
    "    Dense(1)\n",
    "])"
   ]
  },
  {
   "cell_type": "code",
   "execution_count": 8,
   "id": "acfdba38-613c-41c6-a500-4518ca6927ac",
   "metadata": {},
   "outputs": [],
   "source": [
    "model.compile(optimizer='adam', loss='mean_squared_error')"
   ]
  },
  {
   "cell_type": "code",
   "execution_count": 9,
   "id": "6626ad47-0ded-4ad7-96d4-7f36d1b7340f",
   "metadata": {},
   "outputs": [
    {
     "name": "stdout",
     "output_type": "stream",
     "text": [
      "Epoch 1/30\n",
      "12/12 [==============================] - 0s 10ms/step - loss: 49.8509 - val_loss: 28.3068\n",
      "Epoch 2/30\n",
      "12/12 [==============================] - 0s 3ms/step - loss: 26.6679 - val_loss: 29.5990\n",
      "Epoch 3/30\n",
      "12/12 [==============================] - 0s 3ms/step - loss: 24.4375 - val_loss: 27.1673\n",
      "Epoch 4/30\n",
      "12/12 [==============================] - 0s 3ms/step - loss: 24.1735 - val_loss: 25.7230\n",
      "Epoch 5/30\n",
      "12/12 [==============================] - 0s 3ms/step - loss: 23.7176 - val_loss: 25.2984\n",
      "Epoch 6/30\n",
      "12/12 [==============================] - 0s 3ms/step - loss: 24.2055 - val_loss: 24.6180\n",
      "Epoch 7/30\n",
      "12/12 [==============================] - 0s 3ms/step - loss: 24.2912 - val_loss: 24.3560\n",
      "Epoch 8/30\n",
      "12/12 [==============================] - 0s 3ms/step - loss: 25.2078 - val_loss: 26.9597\n",
      "Epoch 9/30\n",
      "12/12 [==============================] - 0s 3ms/step - loss: 24.5889 - val_loss: 26.7796\n",
      "Epoch 10/30\n",
      "12/12 [==============================] - 0s 3ms/step - loss: 24.3689 - val_loss: 24.4921\n"
     ]
    }
   ],
   "source": [
    "history = model.fit(X_train, \n",
    "          y_train, \n",
    "          validation_split=0.0, \n",
    "          validation_data=(X_val, y_val),\n",
    "          epochs=30, \n",
    "          callbacks=[early_stopping_monitor])"
   ]
  },
  {
   "cell_type": "code",
   "execution_count": 10,
   "id": "bd834ab3-e0e5-4c3b-8866-2753b52b62e0",
   "metadata": {},
   "outputs": [
    {
     "name": "stdout",
     "output_type": "stream",
     "text": [
      "4/4 [==============================] - 0s 1ms/step\n"
     ]
    },
    {
     "data": {
      "text/plain": [
       "array([[ 8.838239 ],\n",
       "       [12.383261 ],\n",
       "       [11.187466 ],\n",
       "       [ 6.5674553],\n",
       "       [ 7.379874 ],\n",
       "       [10.121279 ],\n",
       "       [ 5.7359924],\n",
       "       [10.722162 ],\n",
       "       [11.432495 ],\n",
       "       [ 8.561602 ],\n",
       "       [10.944492 ],\n",
       "       [12.6062155],\n",
       "       [ 8.707092 ],\n",
       "       [ 8.79829  ],\n",
       "       [ 6.931494 ],\n",
       "       [ 7.9875402],\n",
       "       [ 6.9640684],\n",
       "       [ 9.762164 ],\n",
       "       [ 7.455203 ],\n",
       "       [11.808729 ],\n",
       "       [ 9.562335 ],\n",
       "       [10.888786 ],\n",
       "       [ 8.092546 ],\n",
       "       [11.866339 ],\n",
       "       [ 8.33149  ],\n",
       "       [ 7.0288067],\n",
       "       [ 8.013874 ],\n",
       "       [ 9.99709  ],\n",
       "       [10.812759 ],\n",
       "       [ 9.200587 ],\n",
       "       [ 9.615652 ],\n",
       "       [10.8864765],\n",
       "       [ 8.289356 ],\n",
       "       [ 8.833775 ],\n",
       "       [10.226558 ],\n",
       "       [13.07739  ],\n",
       "       [10.944601 ],\n",
       "       [ 8.305561 ],\n",
       "       [ 7.053316 ],\n",
       "       [ 9.009874 ],\n",
       "       [ 9.363468 ],\n",
       "       [ 8.426254 ],\n",
       "       [ 6.5217314],\n",
       "       [ 8.37051  ],\n",
       "       [10.255308 ],\n",
       "       [ 8.857332 ],\n",
       "       [ 7.7422657],\n",
       "       [ 5.9298897],\n",
       "       [11.080691 ],\n",
       "       [10.0365305],\n",
       "       [10.17119  ],\n",
       "       [ 8.66503  ],\n",
       "       [ 7.80703  ],\n",
       "       [ 9.183953 ],\n",
       "       [ 6.8806567],\n",
       "       [ 8.866491 ],\n",
       "       [ 7.7435265],\n",
       "       [ 8.529093 ],\n",
       "       [ 8.3362465],\n",
       "       [ 7.8692493],\n",
       "       [ 8.5994425],\n",
       "       [ 7.292419 ],\n",
       "       [10.461852 ],\n",
       "       [11.007866 ],\n",
       "       [ 8.472575 ],\n",
       "       [ 7.811238 ],\n",
       "       [ 8.3793125],\n",
       "       [ 7.1110487],\n",
       "       [ 9.657867 ],\n",
       "       [ 8.292561 ],\n",
       "       [ 8.583455 ],\n",
       "       [ 8.2318735],\n",
       "       [ 8.629229 ],\n",
       "       [ 9.240864 ],\n",
       "       [ 7.5474286],\n",
       "       [ 8.546051 ],\n",
       "       [ 8.300713 ],\n",
       "       [ 6.940755 ],\n",
       "       [ 9.560326 ],\n",
       "       [ 7.690243 ],\n",
       "       [ 8.538393 ],\n",
       "       [ 9.045229 ],\n",
       "       [11.052348 ],\n",
       "       [ 8.874338 ],\n",
       "       [ 9.101269 ],\n",
       "       [ 8.558011 ],\n",
       "       [10.18866  ],\n",
       "       [ 9.39646  ],\n",
       "       [ 6.956018 ],\n",
       "       [ 8.038807 ],\n",
       "       [ 6.165064 ],\n",
       "       [ 7.789714 ],\n",
       "       [ 8.214455 ],\n",
       "       [ 7.743846 ],\n",
       "       [ 8.125232 ],\n",
       "       [ 8.7646675],\n",
       "       [10.877745 ],\n",
       "       [ 7.6464005],\n",
       "       [ 8.292995 ],\n",
       "       [ 9.162462 ],\n",
       "       [11.1647415],\n",
       "       [10.099331 ],\n",
       "       [ 7.5489798],\n",
       "       [ 9.363468 ],\n",
       "       [ 8.955786 ],\n",
       "       [ 8.433252 ],\n",
       "       [ 8.55801  ]], dtype=float32)"
      ]
     },
     "execution_count": 10,
     "metadata": {},
     "output_type": "execute_result"
    }
   ],
   "source": [
    "model.predict(X_test)"
   ]
  },
  {
   "cell_type": "code",
   "execution_count": 11,
   "id": "8f65791d-a835-4e32-90fe-590849526cc9",
   "metadata": {},
   "outputs": [
    {
     "data": {
      "text/plain": [
       "<AxesSubplot:title={'center':'loss plot'}>"
      ]
     },
     "execution_count": 11,
     "metadata": {},
     "output_type": "execute_result"
    },
    {
     "data": {
      "image/png": "[encoded data removed]",
      "text/plain": [
       "<Figure size 640x480 with 1 Axes>"
      ]
     },
     "metadata": {},
     "output_type": "display_data"
    }
   ],
   "source": [
    "model_dataframe = pd.DataFrame(history.history)\n",
    "model_dataframe.loc[:, ['loss', 'val_loss']].plot(title='loss plot')\n"
   ]
  },
  {
   "cell_type": "code",
   "execution_count": 12,
   "id": "d9e98ac9-572d-48a9-a9c9-20f3aa6c56f4",
   "metadata": {},
   "outputs": [],
   "source": [
    "model.compile(optimizer='sgd', loss='mae')"
   ]
  },
  {
   "cell_type": "code",
   "execution_count": 13,
   "id": "bf4dbaa9-e52a-4541-a518-151cc92edc7a",
   "metadata": {},
   "outputs": [
    {
     "name": "stdout",
     "output_type": "stream",
     "text": [
      "Epoch 1/30\n",
      "12/12 [==============================] - 0s 8ms/step - loss: 4.4086 - val_loss: 3.9306\n",
      "Epoch 2/30\n",
      "12/12 [==============================] - 0s 3ms/step - loss: 4.2217 - val_loss: 6.0480\n",
      "Epoch 3/30\n",
      "12/12 [==============================] - 0s 3ms/step - loss: 4.1126 - val_loss: 3.8226\n",
      "Epoch 4/30\n",
      "12/12 [==============================] - 0s 3ms/step - loss: 3.5278 - val_loss: 3.5655\n",
      "Epoch 5/30\n",
      "12/12 [==============================] - 0s 3ms/step - loss: 3.8294 - val_loss: 4.2037\n",
      "Epoch 6/30\n",
      "12/12 [==============================] - 0s 3ms/step - loss: 3.8728 - val_loss: 3.5051\n",
      "Epoch 7/30\n",
      "12/12 [==============================] - 0s 3ms/step - loss: 3.9027 - val_loss: 3.9008\n",
      "Epoch 8/30\n",
      "12/12 [==============================] - 0s 3ms/step - loss: 3.7374 - val_loss: 3.3664\n",
      "Epoch 9/30\n",
      "12/12 [==============================] - 0s 3ms/step - loss: 3.6198 - val_loss: 3.4880\n",
      "Epoch 10/30\n",
      "12/12 [==============================] - 0s 3ms/step - loss: 3.6239 - val_loss: 3.3716\n",
      "Epoch 11/30\n",
      "12/12 [==============================] - 0s 3ms/step - loss: 3.6664 - val_loss: 3.4755\n"
     ]
    }
   ],
   "source": [
    "history = model.fit(X_train, \n",
    "          y_train, \n",
    "          validation_split=0.0, \n",
    "          validation_data=(X_val, y_val),\n",
    "          epochs=30, \n",
    "          callbacks=[early_stopping_monitor])"
   ]
  },
  {
   "cell_type": "code",
   "execution_count": 14,
   "id": "2f532612-ebbf-4096-8d15-ee4be622c620",
   "metadata": {},
   "outputs": [
    {
     "name": "stdout",
     "output_type": "stream",
     "text": [
      "4/4 [==============================] - 0s 1ms/step\n"
     ]
    }
   ],
   "source": [
    "predictions = model.predict(X_test)"
   ]
  },
  {
   "cell_type": "code",
   "execution_count": 15,
   "id": "a5f622b3-acf9-4f7c-81af-0734ac84ccf6",
   "metadata": {},
   "outputs": [
    {
     "data": {
      "text/plain": [
       "<AxesSubplot:title={'center':'loss plot'}>"
      ]
     },
     "execution_count": 15,
     "metadata": {},
     "output_type": "execute_result"
    },
    {
     "data": {
      "image/png": "[encoded data removed]",
      "text/plain": [
       "<Figure size 640x480 with 1 Axes>"
      ]
     },
     "metadata": {},
     "output_type": "display_data"
    }
   ],
   "source": [
    "model_dataframe = pd.DataFrame(history.history)\n",
    "model_dataframe['loss'].plot(title='loss plot')\n"
   ]
  },
  {
   "cell_type": "markdown",
   "id": "df35b106-ad79-46b7-9ad1-7dc5a6939f74",
   "metadata": {},
   "source": [
    "## Task 2"
   ]
  },
  {
   "cell_type": "code",
   "execution_count": 16,
   "id": "9b965745-e58b-460f-be5c-07d0957d36d8",
   "metadata": {},
   "outputs": [],
   "source": [
    "from keras.utils import to_categorical"
   ]
  },
  {
   "cell_type": "code",
   "execution_count": 17,
   "id": "1fc99d56-e987-4e0b-8199-7fd3cf01c7dc",
   "metadata": {},
   "outputs": [
    {
     "name": "stdout",
     "output_type": "stream",
     "text": [
      "106    0\n",
      "189    0\n",
      "504    0\n",
      "477    0\n",
      "350    0\n",
      "Name: manufacturing, dtype: int64\n"
     ]
    }
   ],
   "source": [
    "train_raw = pd.read_csv('./hourly_wages_data.csv')\n",
    "X = train_raw.drop(columns=['manufacturing'])\n",
    "y = train_raw['manufacturing']\n",
    "\n",
    "X_train, X_test, y_train, y_test = train_test_split(X, y, test_size=0.3, random_state=1)\n",
    "X_test, X_val, y_test, y_val = train_test_split(X_test, y_test, test_size=0.33, random_state=1) ## 0.33 * 0.3 = 0.1 for test\n",
    "\n",
    "print(y_train[:5])"
   ]
  },
  {
   "cell_type": "code",
   "execution_count": 18,
   "id": "66b125d2-b50a-4309-bb81-e5a71c2fc7b3",
   "metadata": {},
   "outputs": [],
   "source": [
    "y_train_categorical = to_categorical(y_train)\n",
    "y_val_categorical = to_categorical(y_val)\n",
    "y_test_categorical = to_categorical(y_test)\n"
   ]
  },
  {
   "cell_type": "code",
   "execution_count": 19,
   "id": "f40168f5-f7a6-46ca-93db-aea85654b918",
   "metadata": {},
   "outputs": [],
   "source": [
    "model_2 = Sequential()"
   ]
  },
  {
   "cell_type": "code",
   "execution_count": 20,
   "id": "3b60713b-2583-4e62-9c2d-2e75ba81fb68",
   "metadata": {},
   "outputs": [],
   "source": [
    "n_cols_2 = X_train.shape[1]"
   ]
  },
  {
   "cell_type": "code",
   "execution_count": 21,
   "id": "7b05bb3f-ae49-44dc-923d-f5b690c1dde0",
   "metadata": {},
   "outputs": [],
   "source": [
    "model_2.add(Dense(200, activation='relu', input_shape=(n_cols_2,)))\n",
    "model_2.add(Dense(200, activation='relu'))\n",
    "model_2.add(Dense(200, activation='relu'))\n",
    "model_2.add(Dense(2, activation='softmax'))\n"
   ]
  },
  {
   "cell_type": "code",
   "execution_count": 22,
   "id": "94e4f548-3ad4-41e5-9698-9126dcca9219",
   "metadata": {},
   "outputs": [],
   "source": [
    "model_2.compile(optimizer='adam', loss='categorical_crossentropy', metrics=['accuracy'])"
   ]
  },
  {
   "cell_type": "code",
   "execution_count": 23,
   "id": "453e3a2c-7846-44d7-91f3-d92684256e18",
   "metadata": {},
   "outputs": [
    {
     "name": "stdout",
     "output_type": "stream",
     "text": [
      "Epoch 1/30\n",
      "12/12 [==============================] - 0s 11ms/step - loss: 0.9312 - accuracy: 0.7292 - val_loss: 0.5977 - val_accuracy: 0.7407\n",
      "Epoch 2/30\n",
      "12/12 [==============================] - 0s 3ms/step - loss: 0.5306 - accuracy: 0.7775 - val_loss: 0.4908 - val_accuracy: 0.8333\n",
      "Epoch 3/30\n",
      "12/12 [==============================] - 0s 4ms/step - loss: 0.4919 - accuracy: 0.7989 - val_loss: 0.4790 - val_accuracy: 0.8333\n",
      "Epoch 4/30\n",
      "12/12 [==============================] - 0s 3ms/step - loss: 0.5175 - accuracy: 0.7962 - val_loss: 0.4640 - val_accuracy: 0.8148\n",
      "Epoch 5/30\n",
      "12/12 [==============================] - 0s 3ms/step - loss: 0.5538 - accuracy: 0.7694 - val_loss: 0.4847 - val_accuracy: 0.8333\n",
      "Epoch 6/30\n",
      "12/12 [==============================] - 0s 3ms/step - loss: 0.5145 - accuracy: 0.7962 - val_loss: 0.4743 - val_accuracy: 0.8333\n",
      "Epoch 7/30\n",
      "12/12 [==============================] - 0s 3ms/step - loss: 0.4870 - accuracy: 0.7989 - val_loss: 0.4728 - val_accuracy: 0.8333\n"
     ]
    }
   ],
   "source": [
    "history = model_2.fit(X_train, y_train_categorical, epochs=30, validation_split=0.0, validation_data=(X_val, y_val_categorical), callbacks=[early_stopping_monitor])"
   ]
  },
  {
   "cell_type": "code",
   "execution_count": 24,
   "id": "69c84ca4-57f1-47f6-8678-71e0c967a19e",
   "metadata": {},
   "outputs": [
    {
     "name": "stdout",
     "output_type": "stream",
     "text": [
      "4/4 [==============================] - 0s 1ms/step\n",
      "[[0.938518   0.06148205]\n",
      " [0.8993662  0.10063383]\n",
      " [0.8234548  0.17654519]\n",
      " [0.9232503  0.07674974]\n",
      " [0.804888   0.195112  ]]\n"
     ]
    }
   ],
   "source": [
    "predictions = model_2.predict(X_test)\n",
    "print(predictions[:5])"
   ]
  },
  {
   "cell_type": "code",
   "execution_count": 25,
   "id": "9d810146-b521-4b26-9b22-4d368f241a1e",
   "metadata": {},
   "outputs": [
    {
     "data": {
      "text/plain": [
       "<AxesSubplot:title={'center':'loss plot with adam'}>"
      ]
     },
     "execution_count": 25,
     "metadata": {},
     "output_type": "execute_result"
    },
    {
     "data": {
      "image/png": "[encoded data removed]",
      "text/plain": [
       "<Figure size 640x480 with 1 Axes>"
      ]
     },
     "metadata": {},
     "output_type": "display_data"
    }
   ],
   "source": [
    "model_dataframe = pd.DataFrame(history.history)\n",
    "model_dataframe['loss'].plot(title='loss plot with adam')\n"
   ]
  },
  {
   "cell_type": "code",
   "execution_count": 26,
   "id": "b2605ecf-5281-40b2-be9d-72eadb067245",
   "metadata": {},
   "outputs": [],
   "source": [
    "model_2.compile(optimizer='adadelta', loss='categorical_crossentropy', metrics=['accuracy'])"
   ]
  },
  {
   "cell_type": "code",
   "execution_count": 27,
   "id": "8bc34613-d666-4073-8e1b-0fcd5e12d8c6",
   "metadata": {},
   "outputs": [
    {
     "name": "stdout",
     "output_type": "stream",
     "text": [
      "Epoch 1/30\n",
      "2/2 [==============================] - 0s 114ms/step - loss: 0.4729 - accuracy: 0.8043 - val_loss: 0.4729 - val_accuracy: 0.8333\n",
      "Epoch 2/30\n",
      "2/2 [==============================] - 0s 20ms/step - loss: 0.4728 - accuracy: 0.8043 - val_loss: 0.4729 - val_accuracy: 0.8333\n",
      "Epoch 3/30\n",
      "2/2 [==============================] - 0s 19ms/step - loss: 0.4726 - accuracy: 0.8043 - val_loss: 0.4729 - val_accuracy: 0.8333\n",
      "Epoch 4/30\n",
      "2/2 [==============================] - 0s 19ms/step - loss: 0.4725 - accuracy: 0.8043 - val_loss: 0.4729 - val_accuracy: 0.8333\n",
      "Epoch 5/30\n",
      "2/2 [==============================] - 0s 20ms/step - loss: 0.4723 - accuracy: 0.8043 - val_loss: 0.4730 - val_accuracy: 0.8333\n",
      "Epoch 6/30\n",
      "2/2 [==============================] - 0s 20ms/step - loss: 0.4722 - accuracy: 0.8043 - val_loss: 0.4730 - val_accuracy: 0.8333\n",
      "Epoch 7/30\n",
      "2/2 [==============================] - 0s 21ms/step - loss: 0.4721 - accuracy: 0.8043 - val_loss: 0.4731 - val_accuracy: 0.8333\n",
      "Epoch 8/30\n",
      "2/2 [==============================] - 0s 20ms/step - loss: 0.4720 - accuracy: 0.8043 - val_loss: 0.4731 - val_accuracy: 0.8333\n",
      "Epoch 9/30\n",
      "2/2 [==============================] - 0s 20ms/step - loss: 0.4720 - accuracy: 0.8043 - val_loss: 0.4731 - val_accuracy: 0.8333\n",
      "Epoch 10/30\n",
      "2/2 [==============================] - 0s 19ms/step - loss: 0.4720 - accuracy: 0.8043 - val_loss: 0.4731 - val_accuracy: 0.8333\n",
      "Epoch 11/30\n",
      "2/2 [==============================] - 0s 20ms/step - loss: 0.4719 - accuracy: 0.8043 - val_loss: 0.4732 - val_accuracy: 0.8333\n",
      "Epoch 12/30\n",
      "2/2 [==============================] - 0s 20ms/step - loss: 0.4717 - accuracy: 0.8043 - val_loss: 0.4732 - val_accuracy: 0.8333\n",
      "Epoch 13/30\n",
      "2/2 [==============================] - 0s 18ms/step - loss: 0.4716 - accuracy: 0.8043 - val_loss: 0.4733 - val_accuracy: 0.8333\n",
      "Epoch 14/30\n",
      "2/2 [==============================] - 0s 21ms/step - loss: 0.4714 - accuracy: 0.8043 - val_loss: 0.4733 - val_accuracy: 0.8333\n",
      "Epoch 15/30\n",
      "2/2 [==============================] - 0s 21ms/step - loss: 0.4713 - accuracy: 0.8043 - val_loss: 0.4734 - val_accuracy: 0.8333\n",
      "Epoch 16/30\n",
      "2/2 [==============================] - 0s 22ms/step - loss: 0.4713 - accuracy: 0.8043 - val_loss: 0.4735 - val_accuracy: 0.8333\n",
      "Epoch 17/30\n",
      "2/2 [==============================] - 0s 20ms/step - loss: 0.4713 - accuracy: 0.8043 - val_loss: 0.4735 - val_accuracy: 0.8333\n",
      "Epoch 18/30\n",
      "2/2 [==============================] - 0s 19ms/step - loss: 0.4711 - accuracy: 0.8016 - val_loss: 0.4736 - val_accuracy: 0.8333\n",
      "Epoch 19/30\n",
      "2/2 [==============================] - 0s 20ms/step - loss: 0.4710 - accuracy: 0.8016 - val_loss: 0.4736 - val_accuracy: 0.8333\n",
      "Epoch 20/30\n",
      "2/2 [==============================] - 0s 21ms/step - loss: 0.4710 - accuracy: 0.8016 - val_loss: 0.4736 - val_accuracy: 0.8333\n",
      "Epoch 21/30\n",
      "2/2 [==============================] - 0s 19ms/step - loss: 0.4709 - accuracy: 0.8043 - val_loss: 0.4737 - val_accuracy: 0.8333\n",
      "Epoch 22/30\n",
      "2/2 [==============================] - 0s 19ms/step - loss: 0.4708 - accuracy: 0.8043 - val_loss: 0.4737 - val_accuracy: 0.8333\n",
      "Epoch 23/30\n",
      "2/2 [==============================] - 0s 20ms/step - loss: 0.4708 - accuracy: 0.8043 - val_loss: 0.4738 - val_accuracy: 0.8333\n",
      "Epoch 24/30\n",
      "2/2 [==============================] - 0s 19ms/step - loss: 0.4708 - accuracy: 0.8043 - val_loss: 0.4738 - val_accuracy: 0.8333\n",
      "Epoch 25/30\n",
      "2/2 [==============================] - 0s 20ms/step - loss: 0.4707 - accuracy: 0.8043 - val_loss: 0.4738 - val_accuracy: 0.8333\n",
      "Epoch 26/30\n",
      "2/2 [==============================] - 0s 19ms/step - loss: 0.4707 - accuracy: 0.8043 - val_loss: 0.4739 - val_accuracy: 0.8333\n",
      "Epoch 27/30\n",
      "2/2 [==============================] - 0s 20ms/step - loss: 0.4706 - accuracy: 0.8043 - val_loss: 0.4739 - val_accuracy: 0.8333\n",
      "Epoch 28/30\n",
      "2/2 [==============================] - 0s 21ms/step - loss: 0.4706 - accuracy: 0.8043 - val_loss: 0.4739 - val_accuracy: 0.8333\n",
      "Epoch 29/30\n",
      "2/2 [==============================] - 0s 19ms/step - loss: 0.4706 - accuracy: 0.8043 - val_loss: 0.4740 - val_accuracy: 0.8333\n",
      "Epoch 30/30\n",
      "2/2 [==============================] - 0s 19ms/step - loss: 0.4705 - accuracy: 0.8070 - val_loss: 0.4740 - val_accuracy: 0.8333\n"
     ]
    }
   ],
   "source": [
    "history = model_2.fit(X_train, y_train_categorical, epochs=30,batch_size=256, validation_split=0.0, validation_data=(X_val, y_val_categorical))"
   ]
  },
  {
   "cell_type": "code",
   "execution_count": 28,
   "id": "0188b7ca-480f-4f1a-a25d-08d0afa4b535",
   "metadata": {},
   "outputs": [
    {
     "name": "stdout",
     "output_type": "stream",
     "text": [
      "4/4 [==============================] - 0s 1ms/step\n",
      "[[0.9333506  0.06664943]\n",
      " [0.88368183 0.11631814]\n",
      " [0.8081886  0.19181143]\n",
      " [0.9182345  0.08176547]\n",
      " [0.7840763  0.21592373]]\n"
     ]
    }
   ],
   "source": [
    "predictions = model_2.predict(X_test)\n",
    "print(predictions[:5])"
   ]
  },
  {
   "cell_type": "code",
   "execution_count": 29,
   "id": "fa941ba2-c9f3-4dc5-89ca-4692ef390645",
   "metadata": {},
   "outputs": [],
   "source": [
    "# Comparing Adam and Adadelta we see that adadelta predicts more accurate due to stepsize"
   ]
  },
  {
   "cell_type": "code",
   "execution_count": 30,
   "id": "3d29433b-9ed1-479a-a0da-d2a4427d3d00",
   "metadata": {},
   "outputs": [
    {
     "data": {
      "text/plain": [
       "<AxesSubplot:title={'center':'loss plot with adadelta'}>"
      ]
     },
     "execution_count": 30,
     "metadata": {},
     "output_type": "execute_result"
    },
    {
     "data": {
      "image/png": "[encoded data removed]",
      "text/plain": [
       "<Figure size 640x480 with 1 Axes>"
      ]
     },
     "metadata": {},
     "output_type": "display_data"
    }
   ],
   "source": [
    "model_dataframe = pd.DataFrame(history.history)\n",
    "model_dataframe['loss'].plot(title='loss plot with adadelta')\n"
   ]
  },
  {
   "cell_type": "markdown",
   "id": "40d32e08-f08f-4c89-8e19-50cb2de534a4",
   "metadata": {},
   "source": [
    "## Task 3\n",
    "Predict ABV (alcohol by volume) of beer"
   ]
  },
  {
   "cell_type": "code",
   "execution_count": 31,
   "id": "f5197b5e-c102-4cec-ba7b-f44a09c793fa",
   "metadata": {},
   "outputs": [],
   "source": [
    "from sklearn.preprocessing import OrdinalEncoder\n",
    "from sklearn.impute import SimpleImputer"
   ]
  },
  {
   "cell_type": "code",
   "execution_count": 32,
   "id": "d08089bf-e153-4ad4-ba50-bb828c8762f8",
   "metadata": {},
   "outputs": [
    {
     "data": {
      "text/html": [
       "<div>\n",
       "<style scoped>\n",
       "    .dataframe tbody tr th:only-of-type {\n",
       "        vertical-align: middle;\n",
       "    }\n",
       "\n",
       "    .dataframe tbody tr th {\n",
       "        vertical-align: top;\n",
       "    }\n",
       "\n",
       "    .dataframe thead th {\n",
       "        text-align: right;\n",
       "    }\n",
       "</style>\n",
       "<table border=\"1\" class=\"dataframe\">\n",
       "  <thead>\n",
       "    <tr style=\"text-align: right;\">\n",
       "      <th></th>\n",
       "      <th>Unnamed: 0</th>\n",
       "      <th>count.x</th>\n",
       "      <th>abv</th>\n",
       "      <th>ibu</th>\n",
       "      <th>id</th>\n",
       "      <th>beer</th>\n",
       "      <th>style</th>\n",
       "      <th>brewery_id</th>\n",
       "      <th>ounces</th>\n",
       "      <th>style2</th>\n",
       "      <th>count.y</th>\n",
       "      <th>brewery</th>\n",
       "      <th>city</th>\n",
       "      <th>state</th>\n",
       "      <th>label</th>\n",
       "    </tr>\n",
       "  </thead>\n",
       "  <tbody>\n",
       "    <tr>\n",
       "      <th>0</th>\n",
       "      <td>1</td>\n",
       "      <td>1</td>\n",
       "      <td>0.050</td>\n",
       "      <td>NaN</td>\n",
       "      <td>1436</td>\n",
       "      <td>Pub Beer</td>\n",
       "      <td>American Pale Lager</td>\n",
       "      <td>408</td>\n",
       "      <td>12.0</td>\n",
       "      <td>NaN</td>\n",
       "      <td>409</td>\n",
       "      <td>10 Barrel Brewing Company</td>\n",
       "      <td>Bend</td>\n",
       "      <td>OR</td>\n",
       "      <td>Pub Beer (10 Barrel Brewing Company)</td>\n",
       "    </tr>\n",
       "    <tr>\n",
       "      <th>1</th>\n",
       "      <td>2</td>\n",
       "      <td>2</td>\n",
       "      <td>0.066</td>\n",
       "      <td>NaN</td>\n",
       "      <td>2265</td>\n",
       "      <td>Devil's Cup</td>\n",
       "      <td>American Pale Ale (APA)</td>\n",
       "      <td>177</td>\n",
       "      <td>12.0</td>\n",
       "      <td>American Pale Ale (APA)</td>\n",
       "      <td>178</td>\n",
       "      <td>18th Street Brewery</td>\n",
       "      <td>Gary</td>\n",
       "      <td>IN</td>\n",
       "      <td>Devil's Cup (18th Street Brewery)</td>\n",
       "    </tr>\n",
       "    <tr>\n",
       "      <th>2</th>\n",
       "      <td>3</td>\n",
       "      <td>3</td>\n",
       "      <td>0.071</td>\n",
       "      <td>NaN</td>\n",
       "      <td>2264</td>\n",
       "      <td>Rise of the Phoenix</td>\n",
       "      <td>American IPA</td>\n",
       "      <td>177</td>\n",
       "      <td>12.0</td>\n",
       "      <td>American IPA</td>\n",
       "      <td>178</td>\n",
       "      <td>18th Street Brewery</td>\n",
       "      <td>Gary</td>\n",
       "      <td>IN</td>\n",
       "      <td>Rise of the Phoenix (18th Street Brewery)</td>\n",
       "    </tr>\n",
       "    <tr>\n",
       "      <th>3</th>\n",
       "      <td>4</td>\n",
       "      <td>4</td>\n",
       "      <td>0.090</td>\n",
       "      <td>NaN</td>\n",
       "      <td>2263</td>\n",
       "      <td>Sinister</td>\n",
       "      <td>American Double / Imperial IPA</td>\n",
       "      <td>177</td>\n",
       "      <td>12.0</td>\n",
       "      <td>American Double / Imperial IPA</td>\n",
       "      <td>178</td>\n",
       "      <td>18th Street Brewery</td>\n",
       "      <td>Gary</td>\n",
       "      <td>IN</td>\n",
       "      <td>Sinister (18th Street Brewery)</td>\n",
       "    </tr>\n",
       "    <tr>\n",
       "      <th>4</th>\n",
       "      <td>5</td>\n",
       "      <td>5</td>\n",
       "      <td>0.075</td>\n",
       "      <td>NaN</td>\n",
       "      <td>2262</td>\n",
       "      <td>Sex and Candy</td>\n",
       "      <td>American IPA</td>\n",
       "      <td>177</td>\n",
       "      <td>12.0</td>\n",
       "      <td>American IPA</td>\n",
       "      <td>178</td>\n",
       "      <td>18th Street Brewery</td>\n",
       "      <td>Gary</td>\n",
       "      <td>IN</td>\n",
       "      <td>Sex and Candy (18th Street Brewery)</td>\n",
       "    </tr>\n",
       "  </tbody>\n",
       "</table>\n",
       "</div>"
      ],
      "text/plain": [
       "   Unnamed: 0  count.x    abv  ibu    id                 beer  \\\n",
       "0           1        1  0.050  NaN  1436             Pub Beer   \n",
       "1           2        2  0.066  NaN  2265          Devil's Cup   \n",
       "2           3        3  0.071  NaN  2264  Rise of the Phoenix   \n",
       "3           4        4  0.090  NaN  2263             Sinister   \n",
       "4           5        5  0.075  NaN  2262        Sex and Candy   \n",
       "\n",
       "                            style  brewery_id  ounces  \\\n",
       "0             American Pale Lager         408    12.0   \n",
       "1         American Pale Ale (APA)         177    12.0   \n",
       "2                    American IPA         177    12.0   \n",
       "3  American Double / Imperial IPA         177    12.0   \n",
       "4                    American IPA         177    12.0   \n",
       "\n",
       "                           style2  count.y                    brewery  city  \\\n",
       "0                             NaN      409  10 Barrel Brewing Company  Bend   \n",
       "1         American Pale Ale (APA)      178        18th Street Brewery  Gary   \n",
       "2                    American IPA      178        18th Street Brewery  Gary   \n",
       "3  American Double / Imperial IPA      178        18th Street Brewery  Gary   \n",
       "4                    American IPA      178        18th Street Brewery  Gary   \n",
       "\n",
       "  state                                      label  \n",
       "0    OR       Pub Beer (10 Barrel Brewing Company)  \n",
       "1    IN          Devil's Cup (18th Street Brewery)  \n",
       "2    IN  Rise of the Phoenix (18th Street Brewery)  \n",
       "3    IN             Sinister (18th Street Brewery)  \n",
       "4    IN        Sex and Candy (18th Street Brewery)  "
      ]
     },
     "execution_count": 32,
     "metadata": {},
     "output_type": "execute_result"
    }
   ],
   "source": [
    "X_raw = pd.read_csv('./beers.csv')\n",
    "X_raw.head()"
   ]
  },
  {
   "cell_type": "code",
   "execution_count": 33,
   "id": "1194381d-c347-406f-8e15-78043d72c8ef",
   "metadata": {},
   "outputs": [
    {
     "data": {
      "text/html": [
       "<div>\n",
       "<style scoped>\n",
       "    .dataframe tbody tr th:only-of-type {\n",
       "        vertical-align: middle;\n",
       "    }\n",
       "\n",
       "    .dataframe tbody tr th {\n",
       "        vertical-align: top;\n",
       "    }\n",
       "\n",
       "    .dataframe thead th {\n",
       "        text-align: right;\n",
       "    }\n",
       "</style>\n",
       "<table border=\"1\" class=\"dataframe\">\n",
       "  <thead>\n",
       "    <tr style=\"text-align: right;\">\n",
       "      <th></th>\n",
       "      <th>beer</th>\n",
       "      <th>style</th>\n",
       "      <th>brewery_id</th>\n",
       "      <th>style2</th>\n",
       "      <th>brewery</th>\n",
       "      <th>city</th>\n",
       "      <th>state</th>\n",
       "      <th>label</th>\n",
       "    </tr>\n",
       "  </thead>\n",
       "  <tbody>\n",
       "    <tr>\n",
       "      <th>0</th>\n",
       "      <td>Pub Beer</td>\n",
       "      <td>American Pale Lager</td>\n",
       "      <td>408</td>\n",
       "      <td>NaN</td>\n",
       "      <td>10 Barrel Brewing Company</td>\n",
       "      <td>Bend</td>\n",
       "      <td>OR</td>\n",
       "      <td>Pub Beer (10 Barrel Brewing Company)</td>\n",
       "    </tr>\n",
       "    <tr>\n",
       "      <th>1</th>\n",
       "      <td>Devil's Cup</td>\n",
       "      <td>American Pale Ale (APA)</td>\n",
       "      <td>177</td>\n",
       "      <td>American Pale Ale (APA)</td>\n",
       "      <td>18th Street Brewery</td>\n",
       "      <td>Gary</td>\n",
       "      <td>IN</td>\n",
       "      <td>Devil's Cup (18th Street Brewery)</td>\n",
       "    </tr>\n",
       "    <tr>\n",
       "      <th>2</th>\n",
       "      <td>Rise of the Phoenix</td>\n",
       "      <td>American IPA</td>\n",
       "      <td>177</td>\n",
       "      <td>American IPA</td>\n",
       "      <td>18th Street Brewery</td>\n",
       "      <td>Gary</td>\n",
       "      <td>IN</td>\n",
       "      <td>Rise of the Phoenix (18th Street Brewery)</td>\n",
       "    </tr>\n",
       "    <tr>\n",
       "      <th>3</th>\n",
       "      <td>Sinister</td>\n",
       "      <td>American Double / Imperial IPA</td>\n",
       "      <td>177</td>\n",
       "      <td>American Double / Imperial IPA</td>\n",
       "      <td>18th Street Brewery</td>\n",
       "      <td>Gary</td>\n",
       "      <td>IN</td>\n",
       "      <td>Sinister (18th Street Brewery)</td>\n",
       "    </tr>\n",
       "    <tr>\n",
       "      <th>4</th>\n",
       "      <td>Sex and Candy</td>\n",
       "      <td>American IPA</td>\n",
       "      <td>177</td>\n",
       "      <td>American IPA</td>\n",
       "      <td>18th Street Brewery</td>\n",
       "      <td>Gary</td>\n",
       "      <td>IN</td>\n",
       "      <td>Sex and Candy (18th Street Brewery)</td>\n",
       "    </tr>\n",
       "  </tbody>\n",
       "</table>\n",
       "</div>"
      ],
      "text/plain": [
       "                  beer                           style  brewery_id  \\\n",
       "0             Pub Beer             American Pale Lager         408   \n",
       "1          Devil's Cup         American Pale Ale (APA)         177   \n",
       "2  Rise of the Phoenix                    American IPA         177   \n",
       "3             Sinister  American Double / Imperial IPA         177   \n",
       "4        Sex and Candy                    American IPA         177   \n",
       "\n",
       "                           style2                    brewery  city state  \\\n",
       "0                             NaN  10 Barrel Brewing Company  Bend    OR   \n",
       "1         American Pale Ale (APA)        18th Street Brewery  Gary    IN   \n",
       "2                    American IPA        18th Street Brewery  Gary    IN   \n",
       "3  American Double / Imperial IPA        18th Street Brewery  Gary    IN   \n",
       "4                    American IPA        18th Street Brewery  Gary    IN   \n",
       "\n",
       "                                       label  \n",
       "0       Pub Beer (10 Barrel Brewing Company)  \n",
       "1          Devil's Cup (18th Street Brewery)  \n",
       "2  Rise of the Phoenix (18th Street Brewery)  \n",
       "3             Sinister (18th Street Brewery)  \n",
       "4        Sex and Candy (18th Street Brewery)  "
      ]
     },
     "execution_count": 33,
     "metadata": {},
     "output_type": "execute_result"
    }
   ],
   "source": [
    "X_drop_garbage = X_raw.drop(columns=[X_raw.columns[0], X_raw.columns[1]], axis=1)\n",
    "X = X_drop_garbage.drop(columns=['abv','ibu','id','ounces','count.y'])\n",
    "y = X_raw['abv']\n",
    "X.head()"
   ]
  },
  {
   "cell_type": "code",
   "execution_count": 34,
   "id": "49a7087f-cf48-4b0a-83e4-3ee2f46acc63",
   "metadata": {},
   "outputs": [],
   "source": [
    "n_cols = X.shape[1]\n",
    "model_3 = Sequential([\n",
    "    Dense(200, activation='relu', input_shape=(n_cols, )),\n",
    "    Dense(200, activation='relu'),\n",
    "    Dense(200, activation='relu'),\n",
    "    Dense(1)\n",
    "])"
   ]
  },
  {
   "cell_type": "code",
   "execution_count": 35,
   "id": "9b8771b4-19b4-4e16-9ec6-e53bbec6a001",
   "metadata": {},
   "outputs": [],
   "source": [
    "model_3.compile(optimizer='adam',  loss='categorical_crossentropy', metrics=['accuracy'])"
   ]
  },
  {
   "cell_type": "code",
   "execution_count": 36,
   "id": "5d524773-b098-46f3-94b4-0bd7405df4a2",
   "metadata": {},
   "outputs": [
    {
     "name": "stdout",
     "output_type": "stream",
     "text": [
      "Epoch 1/30\n",
      "49/49 [==============================] - 0s 3ms/step - loss: nan - accuracy: 0.0000e+00 - val_loss: nan - val_accuracy: 0.0000e+00\n",
      "Epoch 2/30\n",
      "49/49 [==============================] - 0s 2ms/step - loss: nan - accuracy: 0.0000e+00 - val_loss: nan - val_accuracy: 0.0000e+00\n",
      "Epoch 3/30\n",
      "49/49 [==============================] - 0s 2ms/step - loss: nan - accuracy: 0.0000e+00 - val_loss: nan - val_accuracy: 0.0000e+00\n"
     ]
    }
   ],
   "source": [
    "train_X, test_X, train_y, test_y = train_test_split(X, y, test_size=0.2, random_state=1)\n",
    "my_encoder = OrdinalEncoder()\n",
    "my_imputer = SimpleImputer(strategy='mean')\n",
    "\n",
    "train_X = pd.DataFrame(my_imputer.fit_transform(my_encoder.fit_transform(train_X)))\n",
    "test_X = pd.DataFrame(my_imputer.fit_transform(my_encoder.fit_transform(test_X)))\n",
    "\n",
    "history_3 = model_3.fit(train_X,\n",
    "            train_y,\n",
    "            validation_split=0.2,\n",
    "            epochs=30, \n",
    "            callbacks=[early_stopping_monitor])"
   ]
  },
  {
   "cell_type": "code",
   "execution_count": 37,
   "id": "e0442fa1-f4e6-4f54-83b6-f36d7ccbcdc7",
   "metadata": {},
   "outputs": [
    {
     "data": {
      "text/html": [
       "<div>\n",
       "<style scoped>\n",
       "    .dataframe tbody tr th:only-of-type {\n",
       "        vertical-align: middle;\n",
       "    }\n",
       "\n",
       "    .dataframe tbody tr th {\n",
       "        vertical-align: top;\n",
       "    }\n",
       "\n",
       "    .dataframe thead th {\n",
       "        text-align: right;\n",
       "    }\n",
       "</style>\n",
       "<table border=\"1\" class=\"dataframe\">\n",
       "  <thead>\n",
       "    <tr style=\"text-align: right;\">\n",
       "      <th></th>\n",
       "      <th>0</th>\n",
       "      <th>1</th>\n",
       "      <th>2</th>\n",
       "      <th>3</th>\n",
       "      <th>4</th>\n",
       "      <th>5</th>\n",
       "      <th>6</th>\n",
       "      <th>7</th>\n",
       "    </tr>\n",
       "  </thead>\n",
       "  <tbody>\n",
       "    <tr>\n",
       "      <th>0</th>\n",
       "      <td>1370.0</td>\n",
       "      <td>16.0</td>\n",
       "      <td>350.0</td>\n",
       "      <td>4.000000</td>\n",
       "      <td>166.0</td>\n",
       "      <td>53.0</td>\n",
       "      <td>5.0</td>\n",
       "      <td>1382.0</td>\n",
       "    </tr>\n",
       "    <tr>\n",
       "      <th>1</th>\n",
       "      <td>79.0</td>\n",
       "      <td>59.0</td>\n",
       "      <td>234.0</td>\n",
       "      <td>2.773196</td>\n",
       "      <td>122.0</td>\n",
       "      <td>8.0</td>\n",
       "      <td>15.0</td>\n",
       "      <td>79.0</td>\n",
       "    </tr>\n",
       "    <tr>\n",
       "      <th>2</th>\n",
       "      <td>312.0</td>\n",
       "      <td>37.0</td>\n",
       "      <td>238.0</td>\n",
       "      <td>2.773196</td>\n",
       "      <td>300.0</td>\n",
       "      <td>305.0</td>\n",
       "      <td>22.0</td>\n",
       "      <td>313.0</td>\n",
       "    </tr>\n",
       "    <tr>\n",
       "      <th>3</th>\n",
       "      <td>1332.0</td>\n",
       "      <td>20.0</td>\n",
       "      <td>262.0</td>\n",
       "      <td>2.773196</td>\n",
       "      <td>187.0</td>\n",
       "      <td>256.0</td>\n",
       "      <td>39.0</td>\n",
       "      <td>1344.0</td>\n",
       "    </tr>\n",
       "    <tr>\n",
       "      <th>4</th>\n",
       "      <td>586.0</td>\n",
       "      <td>13.0</td>\n",
       "      <td>101.0</td>\n",
       "      <td>3.000000</td>\n",
       "      <td>79.0</td>\n",
       "      <td>100.0</td>\n",
       "      <td>5.0</td>\n",
       "      <td>592.0</td>\n",
       "    </tr>\n",
       "  </tbody>\n",
       "</table>\n",
       "</div>"
      ],
      "text/plain": [
       "        0     1      2         3      4      5     6       7\n",
       "0  1370.0  16.0  350.0  4.000000  166.0   53.0   5.0  1382.0\n",
       "1    79.0  59.0  234.0  2.773196  122.0    8.0  15.0    79.0\n",
       "2   312.0  37.0  238.0  2.773196  300.0  305.0  22.0   313.0\n",
       "3  1332.0  20.0  262.0  2.773196  187.0  256.0  39.0  1344.0\n",
       "4   586.0  13.0  101.0  3.000000   79.0  100.0   5.0   592.0"
      ]
     },
     "execution_count": 37,
     "metadata": {},
     "output_type": "execute_result"
    }
   ],
   "source": [
    "train_X.head()"
   ]
  },
  {
   "cell_type": "code",
   "execution_count": 38,
   "id": "d57ed796-f5ec-480b-a691-a95178dc06ed",
   "metadata": {},
   "outputs": [
    {
     "name": "stdout",
     "output_type": "stream",
     "text": [
      "16/16 [==============================] - 0s 763us/step\n",
      "[[-16.357132]\n",
      " [-32.766834]\n",
      " [-20.83664 ]\n",
      " [-60.11602 ]\n",
      " [-20.438852]]\n"
     ]
    }
   ],
   "source": [
    "predictions = model_3.predict(test_X)\n",
    "print(predictions[:5])"
   ]
  },
  {
   "cell_type": "code",
   "execution_count": 39,
   "id": "dfb4ff31-015f-439f-b62e-9043f9e0b46d",
   "metadata": {},
   "outputs": [
    {
     "data": {
      "text/plain": [
       "<AxesSubplot:title={'center':'loss plot'}>"
      ]
     },
     "execution_count": 39,
     "metadata": {},
     "output_type": "execute_result"
    },
    {
     "data": {
      "image/png": "[encoded data removed]",
      "text/plain": [
       "<Figure size 640x480 with 1 Axes>"
      ]
     },
     "metadata": {},
     "output_type": "display_data"
    }
   ],
   "source": [
    "model_dataframe = pd.DataFrame(history.history)\n",
    "model_dataframe.loc[:, ['loss', 'val_loss']].plot(title='loss plot')"
   ]
  },
  {
   "cell_type": "raw",
   "id": "c062dd55-ce29-4973-a78a-fe915b5f4ae6",
   "metadata": {},
   "source": [
    "#### "
   ]
  }
 ],
 "metadata": {
  "kernelspec": {
   "display_name": "Python 3 (ipykernel)",
   "language": "python",
   "name": "python3"
  },
  "language_info": {
   "codemirror_mode": {
    "name": "ipython",
    "version": 3
   },
   "file_extension": ".py",
   "mimetype": "text/x-python",
   "name": "python",
   "nbconvert_exporter": "python",
   "pygments_lexer": "ipython3",
   "version": "3.10.6"
  }
 },
 "nbformat": 4,
 "nbformat_minor": 5
}
